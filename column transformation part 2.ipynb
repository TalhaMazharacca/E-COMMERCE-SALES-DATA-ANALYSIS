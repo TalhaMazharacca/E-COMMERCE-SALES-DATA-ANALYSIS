{
 "cells": [
  {
   "cell_type": "code",
   "execution_count": 9,
   "id": "002c1639-6037-4348-80c3-4ba6071d0f17",
   "metadata": {},
   "outputs": [
    {
     "name": "stdout",
     "output_type": "stream",
     "text": [
      "    EEID      Name gender   salary\n",
      "0  EMP01    ayushi      F  26000.0\n",
      "1  EMP02     rohit      M  25000.0\n",
      "2  EMP03  pranjali    NaN  27000.0\n",
      "3  EMP01    ayushi      F  20000.0\n",
      "4  EMP05       NaN      M  25000.0\n",
      "5  EMP06     rohit      M  26000.0\n",
      "6  EMP02     rohit      M  25000.0\n"
     ]
    }
   ],
   "source": [
    "import pandas as pd\n",
    "import numpy as np\n",
    "data=pd.read_csv(\"company1.csv\")\n",
    "data[\"salary\"]=data[\"salary\"].replace(np.nan,26000)# to replace in particuler cell\n",
    "print(data)\n"
   ]
  },
  {
   "cell_type": "code",
   "execution_count": 10,
   "id": "8b04da34-4e36-468c-b8a5-77741e58b41b",
   "metadata": {},
   "outputs": [
    {
     "name": "stdout",
     "output_type": "stream",
     "text": [
      "    EEID      Name gender   salary   Bonus\n",
      "0  EMP01    ayushi      F  26000.0  5200.0\n",
      "1  EMP02     rohit      M  25000.0  5000.0\n",
      "2  EMP03  pranjali    NaN  27000.0  5400.0\n",
      "3  EMP01    ayushi      F  20000.0  4000.0\n",
      "4  EMP05       NaN      M  25000.0  5000.0\n",
      "5  EMP06     rohit      M  26000.0  5200.0\n",
      "6  EMP02     rohit      M  25000.0  5000.0\n"
     ]
    }
   ],
   "source": [
    "data[\"Bonus\"] = (data[\"salary\"]/100)*20#add bonus column + calculation\n",
    "print(data)"
   ]
  },
  {
   "cell_type": "code",
   "execution_count": 17,
   "id": "b33d1d92-c0e4-4658-ac44-3a376d98222b",
   "metadata": {},
   "outputs": [
    {
     "name": "stdout",
     "output_type": "stream",
     "text": [
      "     months\n",
      "0   january\n",
      "1  february\n",
      "2     march\n",
      "3     april\n",
      "     months short month\n",
      "0   january         jan\n",
      "1  february         feb\n",
      "2     march         mar\n",
      "3     april         apr\n"
     ]
    }
   ],
   "source": [
    "data={\"months\":[\"january\",\"february\",\"march\",\"april\"]}\n",
    "a=pd.DataFrame(data)\n",
    "print(a)\n",
    "def extract (value):\n",
    "    return value[0:3]\n",
    "\n",
    "a[\"short month\"]=a[\"months\"].map(extract)#return short name \n",
    "print(a)"
   ]
  },
  {
   "cell_type": "code",
   "execution_count": null,
   "id": "ddec5b4e-8072-4e5c-8e86-8c6187f318f7",
   "metadata": {},
   "outputs": [],
   "source": []
  }
 ],
 "metadata": {
  "kernelspec": {
   "display_name": "Python 3 (ipykernel)",
   "language": "python",
   "name": "python3"
  },
  "language_info": {
   "codemirror_mode": {
    "name": "ipython",
    "version": 3
   },
   "file_extension": ".py",
   "mimetype": "text/x-python",
   "name": "python",
   "nbconvert_exporter": "python",
   "pygments_lexer": "ipython3",
   "version": "3.12.2"
  }
 },
 "nbformat": 4,
 "nbformat_minor": 5
}
