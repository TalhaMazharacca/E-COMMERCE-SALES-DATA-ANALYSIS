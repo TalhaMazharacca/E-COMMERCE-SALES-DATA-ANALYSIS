{
 "cells": [
  {
   "cell_type": "code",
   "execution_count": 3,
   "id": "4000b1b1-853a-4f5f-ac2e-29eca0c8c2f3",
   "metadata": {},
   "outputs": [
    {
     "name": "stdout",
     "output_type": "stream",
     "text": [
      "  Emp ID Name  Age\n",
      "0    ED1  AB1   23\n",
      "1    ED2  AB2   24\n",
      "2    ED3  AB3   25\n",
      "3    ED4  AB4   26\n",
      "4    ED5  AB5   27\n",
      "5    ED6  AB6   29\n",
      "\n",
      "  Emp ID  Salary\n",
      "0    ED1   23000\n",
      "1    ED2   24000\n",
      "2    ED3   25000\n",
      "3    ED4   26000\n",
      "4    ED5   27000\n",
      "5    ED6   29000\n",
      "  Emp ID Name  Age  Salary\n",
      "0    ED1  AB1   23   23000\n",
      "1    ED2  AB2   24   24000\n",
      "2    ED3  AB3   25   25000\n",
      "3    ED4  AB4   26   26000\n",
      "4    ED5  AB5   27   27000\n",
      "5    ED6  AB6   29   29000\n"
     ]
    }
   ],
   "source": [
    "import pandas as pd\n",
    "\n",
    "data1={\"Emp ID\":[\"ED1\",\"ED2\",\"ED3\",\"ED4\",\"ED5\",\"ED6\"],\n",
    "       \"Name\":[\"AB1\",\"AB2\",\"AB3\",\"AB4\",\"AB5\",\"AB6\"],\n",
    "       \"Age\":[23,24,25,26,27,29]}\n",
    "data2={\"Emp ID\":[\"ED1\",\"ED2\",\"ED3\",\"ED4\",\"ED5\",\"ED6\"],\n",
    "       \"Salary\":[23000,24000,25000,26000,27000,29000]}\n",
    "d1=pd.DataFrame(data1)\n",
    "\n",
    "d2=pd.DataFrame(data2)\n",
    "print(d1)\n",
    "print()\n",
    "print(d2)\n",
    "\n",
    "print(pd.merge(d1,d2,on = \"Emp ID\"))"
   ]
  },
  {
   "cell_type": "code",
   "execution_count": 7,
   "id": "286a70af-f0b9-4ecf-9f58-a8491455b590",
   "metadata": {},
   "outputs": [
    {
     "name": "stdout",
     "output_type": "stream",
     "text": [
      "   Fruits  Price  Quantity\n",
      "0   mango    100        15\n",
      "1   apple    150        10\n",
      "2  banana     50        10\n",
      "3  papaya     35         3\n",
      "   Fruits  Price  Quantity\n",
      "0   mango    120        12\n",
      "1   apple    175        15\n",
      "2  banana     50        10\n",
      "3  papaya     30         5\n"
     ]
    }
   ],
   "source": [
    "import pandas as pd\n",
    "\n",
    "data1={\"Fruits\":[\"mango\",\"apple\",\"banana\",\"papaya\"],\n",
    "       \"Price\":[100,150,50,35],\n",
    "       \"Quantity\":[15,10,10,3]}\n",
    "d1=pd.DataFrame(data1)\n",
    "print(d1)\n",
    "d2=d1.copy()\n",
    "d2.loc[0,\"Price\"]=120   # for changes in specific location\n",
    "d2.loc[1,\"Price\"]=175\n",
    "d2.loc[3,\"Price\"]=30\n",
    "d2.loc[0,\"Quantity\"]=12\n",
    "d2.loc[1,\"Quantity\"]=15\n",
    "d2.loc[3,\"Quantity\"]=5\n",
    "\n",
    "print(d2)\n"
   ]
  },
  {
   "cell_type": "code",
   "execution_count": 9,
   "id": "20cea534-cf03-49a1-892d-caf856c39f45",
   "metadata": {},
   "outputs": [
    {
     "name": "stdout",
     "output_type": "stream",
     "text": [
      "   Price        Quantity      \n",
      "    self  other     self other\n",
      "0  100.0  120.0     15.0  12.0\n",
      "1  150.0  175.0     10.0  15.0\n",
      "3   35.0   30.0      3.0   5.0\n"
     ]
    }
   ],
   "source": [
    "print(d1.compare(d2))  # to identify changes only "
   ]
  },
  {
   "cell_type": "code",
   "execution_count": 12,
   "id": "28cf018c-1b8a-4b30-9ca2-b970588bf5de",
   "metadata": {},
   "outputs": [
    {
     "name": "stdout",
     "output_type": "stream",
     "text": [
      "         Price  Quantity\n",
      "0 self   100.0      15.0\n",
      "  other  120.0      12.0\n",
      "1 self   150.0      10.0\n",
      "  other  175.0      15.0\n",
      "3 self    35.0       3.0\n",
      "  other   30.0       5.0\n"
     ]
    }
   ],
   "source": [
    "print(d1.compare(d2,align_axis=0))  # to identify changes at prticular location"
   ]
  },
  {
   "cell_type": "code",
   "execution_count": 13,
   "id": "7237b129-a7cd-4c92-b3fb-329590b33cd1",
   "metadata": {},
   "outputs": [
    {
     "name": "stdout",
     "output_type": "stream",
     "text": [
      "  Price       Quantity      \n",
      "   self other     self other\n",
      "0   100   120       15    12\n",
      "1   150   175       10    15\n",
      "3    35    30        3     5\n"
     ]
    }
   ],
   "source": [
    "print(d1.compare(d2,keep_equal=True))"
   ]
  },
  {
   "cell_type": "code",
   "execution_count": 14,
   "id": "c52a4f15-8fa5-40ec-9c9d-ac4f89733b1c",
   "metadata": {},
   "outputs": [
    {
     "name": "stdout",
     "output_type": "stream",
     "text": [
      "   Price        Quantity      \n",
      "    self  other     self other\n",
      "0  100.0  120.0     15.0  12.0\n",
      "1  150.0  175.0     10.0  15.0\n",
      "3   35.0   30.0      3.0   5.0\n"
     ]
    }
   ],
   "source": [
    "print(d1.compare(d2,keep_equal=False))"
   ]
  },
  {
   "cell_type": "code",
   "execution_count": 15,
   "id": "647a58ea-0fcd-42d2-a521-79fd161b9fa2",
   "metadata": {},
   "outputs": [
    {
     "name": "stdout",
     "output_type": "stream",
     "text": [
      "  Fruits        Price        Quantity      \n",
      "    self other   self  other     self other\n",
      "0    NaN   NaN  100.0  120.0     15.0  12.0\n",
      "1    NaN   NaN  150.0  175.0     10.0  15.0\n",
      "2    NaN   NaN    NaN    NaN      NaN   NaN\n",
      "3    NaN   NaN   35.0   30.0      3.0   5.0\n"
     ]
    }
   ],
   "source": [
    "print(d1.compare(d2,keep_shape=True)) #return complete data or have equal value"
   ]
  },
  {
   "cell_type": "code",
   "execution_count": 17,
   "id": "7ec9b616-c893-4710-9b40-fe42a86b0c04",
   "metadata": {},
   "outputs": [
    {
     "name": "stdout",
     "output_type": "stream",
     "text": [
      "   Price        Quantity      \n",
      "    self  other     self other\n",
      "0  100.0  120.0     15.0  12.0\n",
      "1  150.0  175.0     10.0  15.0\n",
      "3   35.0   30.0      3.0   5.0\n"
     ]
    }
   ],
   "source": [
    "print(d1.compare(d2,keep_shape=False))"
   ]
  },
  {
   "cell_type": "code",
   "execution_count": null,
   "id": "fc4a66dd-2bff-45e7-ba59-86a984ea29f7",
   "metadata": {},
   "outputs": [],
   "source": []
  },
  {
   "cell_type": "code",
   "execution_count": null,
   "id": "50f6350e-5a03-45ed-89b8-2cafc230bc63",
   "metadata": {},
   "outputs": [],
   "source": []
  }
 ],
 "metadata": {
  "kernelspec": {
   "display_name": "Python 3 (ipykernel)",
   "language": "python",
   "name": "python3"
  },
  "language_info": {
   "codemirror_mode": {
    "name": "ipython",
    "version": 3
   },
   "file_extension": ".py",
   "mimetype": "text/x-python",
   "name": "python",
   "nbconvert_exporter": "python",
   "pygments_lexer": "ipython3",
   "version": "3.12.2"
  }
 },
 "nbformat": 4,
 "nbformat_minor": 5
}
