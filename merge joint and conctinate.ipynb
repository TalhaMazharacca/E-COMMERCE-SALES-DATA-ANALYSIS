{
 "cells": [
  {
   "cell_type": "code",
   "execution_count": 7,
   "id": "b729f2bf-93ed-4e8b-bc59-5b3d1f3cbb17",
   "metadata": {},
   "outputs": [
    {
     "name": "stdout",
     "output_type": "stream",
     "text": [
      "  Emp ID Name  Age\n",
      "0    ED1  AB1   23\n",
      "1    ED2  AB2   24\n",
      "2    ED3  AB3   25\n",
      "3    ED4  AB4   26\n",
      "4    ED5  AB5   27\n",
      "5    ED6  AB6   29\n",
      "\n",
      "  Emp ID  Salary\n",
      "0    ED1   23000\n",
      "1    ED2   24000\n",
      "2    ED3   25000\n",
      "3    ED4   26000\n",
      "4    ED5   27000\n",
      "5    ED6   29000\n"
     ]
    }
   ],
   "source": [
    "import pandas as pd\n",
    "\n",
    "data1={\"Emp ID\":[\"ED1\",\"ED2\",\"ED3\",\"ED4\",\"ED5\",\"ED6\"],\n",
    "       \"Name\":[\"AB1\",\"AB2\",\"AB3\",\"AB4\",\"AB5\",\"AB6\"],\n",
    "       \"Age\":[23,24,25,26,27,29]}\n",
    "data2={\"Emp ID\":[\"ED1\",\"ED2\",\"ED3\",\"ED4\",\"ED5\",\"ED6\"],\n",
    "       \"Salary\":[23000,24000,25000,26000,27000,29000]}\n",
    "d1=pd.DataFrame(data1)\n",
    "\n",
    "d2=pd.DataFrame(data2)\n",
    "print(d1)\n",
    "print()\n",
    "print(d2)\n"
   ]
  },
  {
   "cell_type": "code",
   "execution_count": 8,
   "id": "37dd6794-3be5-435d-897c-425ba5403a3a",
   "metadata": {},
   "outputs": [
    {
     "name": "stdout",
     "output_type": "stream",
     "text": [
      "  Emp ID Name  Age  Salary\n",
      "0    ED1  AB1   23   23000\n",
      "1    ED2  AB2   24   24000\n",
      "2    ED3  AB3   25   25000\n",
      "3    ED4  AB4   26   26000\n",
      "4    ED5  AB5   27   27000\n",
      "5    ED6  AB6   29   29000\n"
     ]
    }
   ],
   "source": [
    "print(pd.merge(d1,d2,on = \"Emp ID\"))#merge both data with same reference "
   ]
  },
  {
   "cell_type": "code",
   "execution_count": 6,
   "id": "fafc367e-3ce7-4461-91cb-d8e170ce87c5",
   "metadata": {},
   "outputs": [
    {
     "name": "stdout",
     "output_type": "stream",
     "text": [
      "  Emp ID Name  Age\n",
      "0    ED1  AB1   23\n",
      "1    ED2  AB2   24\n",
      "2    ED3  AB3   25\n",
      "3    ED4  AB4   26\n",
      "4    ED5  AB5   27\n",
      "5    ED6  AB6   29\n",
      "\n",
      "  Emp ID  Salary\n",
      "0    ED1   23000\n",
      "1    ED7   24000\n",
      "2    ED3   25000\n",
      "3    ED4   26000\n",
      "4    ED8   27000\n",
      "5    ED6   29000\n"
     ]
    }
   ],
   "source": [
    "import pandas as pd\n",
    "\n",
    "data1={\"Emp ID\":[\"ED1\",\"ED2\",\"ED3\",\"ED4\",\"ED5\",\"ED6\"],\n",
    "       \"Name\":[\"AB1\",\"AB2\",\"AB3\",\"AB4\",\"AB5\",\"AB6\"],\n",
    "       \"Age\":[23,24,25,26,27,29]}\n",
    "data2={\"Emp ID\":[\"ED1\",\"ED7\",\"ED3\",\"ED4\",\"ED8\",\"ED6\"],\n",
    "       \"Salary\":[23000,24000,25000,26000,27000,29000]}\n",
    "d1=pd.DataFrame(data1)\n",
    "\n",
    "d2=pd.DataFrame(data2)\n",
    "print(d1)\n",
    "print()\n",
    "print(d2)\n"
   ]
  },
  {
   "cell_type": "code",
   "execution_count": 7,
   "id": "0590067c-d259-4c36-8ef2-b93177b19b08",
   "metadata": {},
   "outputs": [
    {
     "name": "stdout",
     "output_type": "stream",
     "text": [
      "  Emp ID Name  Age  Salary\n",
      "0    ED1  AB1   23   23000\n",
      "1    ED3  AB3   25   25000\n",
      "2    ED4  AB4   26   26000\n",
      "3    ED6  AB6   29   29000\n"
     ]
    }
   ],
   "source": [
    "print(pd.merge(d1,d2,on = \"Emp ID\"))#merge both data with same reference (only basis of comman ) eg Emp ID"
   ]
  },
  {
   "cell_type": "code",
   "execution_count": 8,
   "id": "e9095d83-7fd1-4bdd-93ce-97688efc5396",
   "metadata": {},
   "outputs": [
    {
     "name": "stdout",
     "output_type": "stream",
     "text": [
      "  Emp ID Name  Age   Salary\n",
      "0    ED1  AB1   23  23000.0\n",
      "1    ED2  AB2   24      NaN\n",
      "2    ED3  AB3   25  25000.0\n",
      "3    ED4  AB4   26  26000.0\n",
      "4    ED5  AB5   27      NaN\n",
      "5    ED6  AB6   29  29000.0\n"
     ]
    }
   ],
   "source": [
    "print(pd.merge(d1,d2,on = \"Emp ID\", how = \"left\"))#merge both data with same reference and all values of left written colum eg Emp ID"
   ]
  },
  {
   "cell_type": "code",
   "execution_count": 9,
   "id": "5988aa50-89e4-4783-aa1c-615ba41a78eb",
   "metadata": {},
   "outputs": [
    {
     "name": "stdout",
     "output_type": "stream",
     "text": [
      "  Emp ID  Salary Name   Age\n",
      "0    ED1   23000  AB1  23.0\n",
      "1    ED7   24000  NaN   NaN\n",
      "2    ED3   25000  AB3  25.0\n",
      "3    ED4   26000  AB4  26.0\n",
      "4    ED8   27000  NaN   NaN\n",
      "5    ED6   29000  AB6  29.0\n"
     ]
    }
   ],
   "source": [
    "print(pd.merge(d2,d1,on = \"Emp ID\", how = \"left\"))#merge both data with same reference and all values of left written column  eg Emp ID"
   ]
  },
  {
   "cell_type": "code",
   "execution_count": 10,
   "id": "f8e871d6-e90d-4c7e-bae5-46efbea77ede",
   "metadata": {},
   "outputs": [
    {
     "name": "stdout",
     "output_type": "stream",
     "text": [
      "  Emp ID Name  Age   Salary\n",
      "0    ED1  AB1   23  23000.0\n",
      "1    ED2  AB2   24      NaN\n",
      "2    ED3  AB3   25  25000.0\n",
      "3    ED4  AB4   26  26000.0\n",
      "4    ED5  AB5   27      NaN\n",
      "5    ED6  AB6   29  29000.0\n"
     ]
    }
   ],
   "source": [
    "print(pd.merge(left= d1,right = d2,on = \"Emp ID\", how = \"left\"))#merge both data with same reference and all values of left written colum eg Emp ID"
   ]
  },
  {
   "cell_type": "code",
   "execution_count": 11,
   "id": "63a42f08-3473-468f-b09d-2325efebe5b5",
   "metadata": {},
   "outputs": [
    {
     "name": "stdout",
     "output_type": "stream",
     "text": [
      "  Emp ID Name   Age  Salary\n",
      "0    ED1  AB1  23.0   23000\n",
      "1    ED7  NaN   NaN   24000\n",
      "2    ED3  AB3  25.0   25000\n",
      "3    ED4  AB4  26.0   26000\n",
      "4    ED8  NaN   NaN   27000\n",
      "5    ED6  AB6  29.0   29000\n"
     ]
    }
   ],
   "source": [
    "print(pd.merge(left= d1,right = d2,on = \"Emp ID\", how = \"right\"))#merge both data with same reference and all values of left written colum eg Emp ID"
   ]
  },
  {
   "cell_type": "code",
   "execution_count": 18,
   "id": "3c8fd136-0d1b-48e3-9d3e-57e94e2c9524",
   "metadata": {},
   "outputs": [],
   "source": [
    "data1={\"Emp ID\":[\"ED1\",\"ED2\",\"ED3\",\"ED4\",\"ED5\",\"ED6\"],\n",
    "       \"Name\":[\"AB1\",\"AB2\",\"AB3\",\"AB4\",\"AB5\",\"AB6\"],\n",
    "       \"Age\":[23,24,25,26,27,29]}\n",
    "data2={\"Emp ID\":[\"ED7\",\"ED8\",\"ED9\",\"ED10\",\"ED11\",\"ED12\"],\n",
    "       \"Name\":[\"ABC\",\"ABC\",\"ABC\",\"ABC\",\"ABC\",\"ABC\"],\n",
    "       \"Age\":[23,24,25,26,27,29]}\n",
    "\n",
    "d1=pd.DataFrame(data1)\n",
    "\n",
    "d2=pd.DataFrame(data2)"
   ]
  },
  {
   "cell_type": "code",
   "execution_count": 20,
   "id": "9ae118ba-8c92-47c6-b95d-e440a11729f3",
   "metadata": {},
   "outputs": [
    {
     "name": "stdout",
     "output_type": "stream",
     "text": [
      "  Emp ID Name  Age\n",
      "0    ED1  AB1   23\n",
      "1    ED2  AB2   24\n",
      "2    ED3  AB3   25\n",
      "3    ED4  AB4   26\n",
      "4    ED5  AB5   27\n",
      "5    ED6  AB6   29\n",
      "0    ED7  ABC   23\n",
      "1    ED8  ABC   24\n",
      "2    ED9  ABC   25\n",
      "3   ED10  ABC   26\n",
      "4   ED11  ABC   27\n",
      "5   ED12  ABC   29\n"
     ]
    }
   ],
   "source": [
    "print(pd.concat([d1,d2]))"
   ]
  },
  {
   "cell_type": "code",
   "execution_count": null,
   "id": "65f8a321-ec12-4aa6-904e-95dda2f5a6c3",
   "metadata": {},
   "outputs": [],
   "source": [
    "import "
   ]
  }
 ],
 "metadata": {
  "kernelspec": {
   "display_name": "Python 3 (ipykernel)",
   "language": "python",
   "name": "python3"
  },
  "language_info": {
   "codemirror_mode": {
    "name": "ipython",
    "version": 3
   },
   "file_extension": ".py",
   "mimetype": "text/x-python",
   "name": "python",
   "nbconvert_exporter": "python",
   "pygments_lexer": "ipython3",
   "version": "3.12.2"
  }
 },
 "nbformat": 4,
 "nbformat_minor": 5
}
