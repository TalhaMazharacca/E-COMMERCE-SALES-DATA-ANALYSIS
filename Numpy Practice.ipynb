{
 "cells": [
  {
   "cell_type": "markdown",
   "id": "65c47d8b-8c20-4c28-a1ab-6d88e21b12d9",
   "metadata": {},
   "source": [
    "TALHA MAZHAR"
   ]
  },
  {
   "cell_type": "code",
   "execution_count": 2,
   "id": "9ebf3a78-82aa-456e-b8ea-430d4e3b5318",
   "metadata": {},
   "outputs": [
    {
     "data": {
      "text/plain": [
       "14"
      ]
     },
     "execution_count": 2,
     "metadata": {},
     "output_type": "execute_result"
    }
   ],
   "source": [
    "2+3+9"
   ]
  },
  {
   "cell_type": "code",
   "execution_count": 4,
   "id": "0f34d874-97f0-4268-8a12-e56851ec88a3",
   "metadata": {},
   "outputs": [
    {
     "data": {
      "text/plain": [
       "14.285714285714286"
      ]
     },
     "execution_count": 4,
     "metadata": {},
     "output_type": "execute_result"
    }
   ],
   "source": [
    "100/7"
   ]
  },
  {
   "cell_type": "code",
   "execution_count": 5,
   "id": "7b4efada-aab7-4d8e-8aa1-ab4a6d527a35",
   "metadata": {},
   "outputs": [
    {
     "data": {
      "text/plain": [
       "14"
      ]
     },
     "execution_count": 5,
     "metadata": {},
     "output_type": "execute_result"
    }
   ],
   "source": [
    "100//7"
   ]
  },
  {
   "cell_type": "code",
   "execution_count": 6,
   "id": "1caa82d9-7895-411c-87c0-bf162c5ae1fc",
   "metadata": {},
   "outputs": [
    {
     "data": {
      "text/plain": [
       "2"
      ]
     },
     "execution_count": 6,
     "metadata": {},
     "output_type": "execute_result"
    }
   ],
   "source": [
    "100 % 7"
   ]
  },
  {
   "cell_type": "markdown",
   "id": "7a7d64e9-9d0d-4258-8cdb-058cbe129628",
   "metadata": {},
   "source": [
    "### VARIABLE"
   ]
  },
  {
   "cell_type": "code",
   "execution_count": null,
   "id": "ea228244-5ed9-4bbb-832c-958f0faeb861",
   "metadata": {},
   "outputs": [],
   "source": [
    "my_fav_color_is = \"Red\""
   ]
  },
  {
   "cell_type": "code",
   "execution_count": null,
   "id": "b295cbbb-0732-4ac8-87d4-be7141cae3ea",
   "metadata": {},
   "outputs": [],
   "source": [
    "my_fav_color_is "
   ]
  },
  {
   "cell_type": "code",
   "execution_count": null,
   "id": "88f34c1d-0c61-4f6d-b55f-9e13c98026f7",
   "metadata": {},
   "outputs": [],
   "source": [
    "color1,color2,color3 = \"Blue\",\"green\",\"pink\""
   ]
  },
  {
   "cell_type": "code",
   "execution_count": 9,
   "id": "960b693a-fd7d-4dd9-9923-96ebe955ae74",
   "metadata": {},
   "outputs": [
    {
     "ename": "NameError",
     "evalue": "name 'color1' is not defined",
     "output_type": "error",
     "traceback": [
      "\u001b[1;31m---------------------------------------------------------------------------\u001b[0m",
      "\u001b[1;31mNameError\u001b[0m                                 Traceback (most recent call last)",
      "Cell \u001b[1;32mIn[9], line 1\u001b[0m\n\u001b[1;32m----> 1\u001b[0m \u001b[43mcolor1\u001b[49m\n",
      "\u001b[1;31mNameError\u001b[0m: name 'color1' is not defined"
     ]
    }
   ],
   "source": [
    "color1"
   ]
  },
  {
   "cell_type": "code",
   "execution_count": 4,
   "id": "f03b22c2-76cd-4db1-b4cb-b681dbba2ae1",
   "metadata": {},
   "outputs": [],
   "source": [
    "def filter(number_list):\n",
    "    Even_no=[]\n",
    "    for number in number_list:\n",
    "        if number % 2 == 0:\n",
    "            Even_no.append(number)\n",
    "    return Even_no"
   ]
  },
  {
   "cell_type": "code",
   "execution_count": 5,
   "id": "b8943cb6-53ba-455c-aec6-d18cd548e375",
   "metadata": {},
   "outputs": [
    {
     "data": {
      "text/plain": [
       "[2, 4, 6, 8]"
      ]
     },
     "execution_count": 5,
     "metadata": {},
     "output_type": "execute_result"
    }
   ],
   "source": [
    "filter([1,2,3,4,5,6,7,8,9])\n"
   ]
  },
  {
   "cell_type": "code",
   "execution_count": null,
   "id": "d2973434-35c5-415b-b525-972413372157",
   "metadata": {},
   "outputs": [],
   "source": []
  },
  {
   "cell_type": "code",
   "execution_count": null,
   "id": "63a61ef3-f7e5-4d8a-93ae-ef6bb6f3546f",
   "metadata": {},
   "outputs": [],
   "source": [
    "w1,w2,w3= 0.3,0.2,0.5"
   ]
  },
  {
   "cell_type": "code",
   "execution_count": null,
   "id": "2b2472e0-2af5-4492-ada0-494471a4678d",
   "metadata": {},
   "outputs": [],
   "source": []
  },
  {
   "cell_type": "code",
   "execution_count": 6,
   "id": "64a036dd-2d1b-4517-81a1-e2c8828b29d2",
   "metadata": {},
   "outputs": [
    {
     "name": "stdout",
     "output_type": "stream",
     "text": [
      "The expected yield of apples in Kanto region is 56.8 tons per hectare\n"
     ]
    }
   ],
   "source": [
    "w1,w2,w3= 0.3,0.2,0.5\n",
    "Kanto_temp = 73\n",
    "Kanto_rainfall = 67\n",
    "Kanto_humidity = 43\n",
    "Kanto_yield_apple= Kanto_temp * w1 + Kanto_rainfall * w2 + Kanto_humidity * w3\n",
    "print(\"The expected yield of apples in Kanto region is {} tons per hectare\".format(Kanto_yield_apple))"
   ]
  },
  {
   "cell_type": "code",
   "execution_count": 21,
   "id": "2cd057ab-5846-4d8b-9461-464c6b1af21c",
   "metadata": {},
   "outputs": [],
   "source": [
    "kanto = [73,67,43]\n",
    "johto = [91,88,64]\n",
    "hoenn = [87,134,58]\n",
    "sinnoh = [102,43,37]\n",
    "unova =[69,96,70]\n",
    "\n",
    "weights = [w1,w2,w3]\n",
    "\n",
    "def crop_yield (region,weights):\n",
    "    results= 0\n",
    "    for x,w in zip (region,weights):\n",
    "        results = results + x*w\n",
    "    return results\n"
   ]
  },
  {
   "cell_type": "code",
   "execution_count": 22,
   "id": "09f41e05-6d44-44f0-b3e3-76e774b1129e",
   "metadata": {},
   "outputs": [
    {
     "data": {
      "text/plain": [
       "56.8"
      ]
     },
     "execution_count": 22,
     "metadata": {},
     "output_type": "execute_result"
    }
   ],
   "source": [
    "crop_yield(kanto,weights)"
   ]
  },
  {
   "cell_type": "code",
   "execution_count": 15,
   "id": "dd410e47-42bc-403e-9a8c-99e7b6d351f0",
   "metadata": {},
   "outputs": [
    {
     "data": {
      "text/plain": [
       "76.9"
      ]
     },
     "execution_count": 15,
     "metadata": {},
     "output_type": "execute_result"
    }
   ],
   "source": [
    "crop_yield(johto,weights)"
   ]
  },
  {
   "cell_type": "code",
   "execution_count": 16,
   "id": "ca4ab557-be2f-4a67-81ab-2e9f0b317a79",
   "metadata": {},
   "outputs": [
    {
     "data": {
      "text/plain": [
       "74.9"
      ]
     },
     "execution_count": 16,
     "metadata": {},
     "output_type": "execute_result"
    }
   ],
   "source": [
    "crop_yield(unova,weights)"
   ]
  },
  {
   "cell_type": "code",
   "execution_count": null,
   "id": "051ebaa8-d2db-442d-93df-9bcf35cc4d54",
   "metadata": {},
   "outputs": [],
   "source": []
  },
  {
   "cell_type": "code",
   "execution_count": null,
   "id": "7019ae77-63a0-422f-9dfc-5a698437a03b",
   "metadata": {},
   "outputs": [],
   "source": [
    "import numpy as np"
   ]
  },
  {
   "cell_type": "code",
   "execution_count": null,
   "id": "9db1ac12-1206-4609-baa7-fb586529ec08",
   "metadata": {},
   "outputs": [],
   "source": [
    "kanto = [73,67,43]"
   ]
  },
  {
   "cell_type": "code",
   "execution_count": 24,
   "id": "5058bce0-da44-4090-b967-c7636e9f7ace",
   "metadata": {},
   "outputs": [],
   "source": [
    "import numpy as np\n",
    "kanto=np.array([73, 67, 43])"
   ]
  },
  {
   "cell_type": "code",
   "execution_count": 26,
   "id": "e8e96c09-f928-40dd-8077-272620828ccc",
   "metadata": {},
   "outputs": [
    {
     "data": {
      "text/plain": [
       "array([73, 67, 43])"
      ]
     },
     "execution_count": 26,
     "metadata": {},
     "output_type": "execute_result"
    }
   ],
   "source": [
    "kanto"
   ]
  },
  {
   "cell_type": "code",
   "execution_count": 27,
   "id": "adfdb702-2644-4c6b-8b36-e5e735d3b790",
   "metadata": {},
   "outputs": [],
   "source": [
    "\n",
    "weights = np.array([w1,w2,w3])"
   ]
  },
  {
   "cell_type": "code",
   "execution_count": 29,
   "id": "a915fa44-57d8-464a-aee5-63f5917d3127",
   "metadata": {},
   "outputs": [
    {
     "data": {
      "text/plain": [
       "numpy.ndarray"
      ]
     },
     "execution_count": 29,
     "metadata": {},
     "output_type": "execute_result"
    }
   ],
   "source": [
    "type(weights)"
   ]
  },
  {
   "cell_type": "code",
   "execution_count": 30,
   "id": "f99f83e5-0efe-4e55-b735-154b324b53cb",
   "metadata": {},
   "outputs": [
    {
     "data": {
      "text/plain": [
       "0.2"
      ]
     },
     "execution_count": 30,
     "metadata": {},
     "output_type": "execute_result"
    }
   ],
   "source": [
    "weights[1]"
   ]
  },
  {
   "cell_type": "code",
   "execution_count": 31,
   "id": "cb585258-ea6f-40dd-bcbd-f942197196a3",
   "metadata": {},
   "outputs": [
    {
     "data": {
      "text/plain": [
       "56.8"
      ]
     },
     "execution_count": 31,
     "metadata": {},
     "output_type": "execute_result"
    }
   ],
   "source": [
    "np.dot(kanto,weights)"
   ]
  },
  {
   "cell_type": "code",
   "execution_count": 32,
   "id": "f22b3bbd-15de-4afe-b34c-6031a728e9f2",
   "metadata": {},
   "outputs": [
    {
     "data": {
      "text/plain": [
       "56.8"
      ]
     },
     "execution_count": 32,
     "metadata": {},
     "output_type": "execute_result"
    }
   ],
   "source": [
    "(kanto*weights).sum()"
   ]
  },
  {
   "cell_type": "code",
   "execution_count": 36,
   "id": "ea5e7516-da3d-483a-bea5-227c300bfa14",
   "metadata": {},
   "outputs": [
    {
     "data": {
      "text/plain": [
       "array([ 4, 10, 18])"
      ]
     },
     "execution_count": 36,
     "metadata": {},
     "output_type": "execute_result"
    }
   ],
   "source": [
    "arr1 = np.array([1,2,3])\n",
    "arr2 = np.array([4,5,6])\n",
    "arr1 * arr2\n",
    "\n"
   ]
  },
  {
   "cell_type": "raw",
   "id": "5d285b2e-6bf0-4672-be3b-b62555c7bf95",
   "metadata": {},
   "source": [
    "arr2.sum()"
   ]
  },
  {
   "cell_type": "code",
   "execution_count": 41,
   "id": "4a0556ba-79b6-4a0e-ae1a-061b31b251d8",
   "metadata": {},
   "outputs": [
    {
     "data": {
      "text/plain": [
       "833323333350000"
      ]
     },
     "execution_count": 41,
     "metadata": {},
     "output_type": "execute_result"
    }
   ],
   "source": [
    "arr1= list(range(100000))\n",
    "arr2= list(range(100000,200000))\n",
    "\n",
    "arr1_np= np.array(arr1)\n",
    "arr2_np= np.array(arr2)\n",
    "\n",
    "results = 0\n",
    "for x1,x2 in zip(arr1,arr2):\n",
    "    results += x1*x2\n",
    "results\n"
   ]
  },
  {
   "cell_type": "code",
   "execution_count": 48,
   "id": "e971b78b-e470-42d2-b2eb-e84aecc2770e",
   "metadata": {},
   "outputs": [
    {
     "data": {
      "text/plain": [
       "893678192"
      ]
     },
     "execution_count": 48,
     "metadata": {},
     "output_type": "execute_result"
    }
   ],
   "source": [
    "arr1= list(range(100000))\n",
    "arr2= list(range(100000,200000))\n",
    "\n",
    "arr1_np= np.array(arr1)\n",
    "arr2_np= np.array(arr2)\n",
    "\n",
    "np.dot(arr1_np,arr2_np)"
   ]
  },
  {
   "cell_type": "code",
   "execution_count": 51,
   "id": "93b27904-b4fa-473f-b3ab-b406e73f6992",
   "metadata": {},
   "outputs": [],
   "source": [
    "climate_data= np.array([[73, 67, 43],\n",
    "                         [91, 88, 64],\n",
    "                         [87, 134, 58],\n",
    "                         [102, 43, 37],\n",
    "                         [69, 96, 70]])\n",
    "\n"
   ]
  },
  {
   "cell_type": "code",
   "execution_count": 52,
   "id": "7983c053-4770-429c-8c0b-ebc976b97945",
   "metadata": {},
   "outputs": [
    {
     "data": {
      "text/plain": [
       "array([[ 73,  67,  43],\n",
       "       [ 91,  88,  64],\n",
       "       [ 87, 134,  58],\n",
       "       [102,  43,  37],\n",
       "       [ 69,  96,  70]])"
      ]
     },
     "execution_count": 52,
     "metadata": {},
     "output_type": "execute_result"
    }
   ],
   "source": [
    "climate_data"
   ]
  },
  {
   "cell_type": "code",
   "execution_count": 55,
   "id": "420e7b04-0ed1-41f2-b7ca-182fe2bd6cbc",
   "metadata": {},
   "outputs": [
    {
     "data": {
      "text/plain": [
       "(5, 3)"
      ]
     },
     "execution_count": 55,
     "metadata": {},
     "output_type": "execute_result"
    }
   ],
   "source": [
    "climate_data.shape"
   ]
  },
  {
   "cell_type": "code",
   "execution_count": 56,
   "id": "adc898d4-045a-4d71-b1a0-70f66939b046",
   "metadata": {},
   "outputs": [
    {
     "data": {
      "text/plain": [
       "(3,)"
      ]
     },
     "execution_count": 56,
     "metadata": {},
     "output_type": "execute_result"
    }
   ],
   "source": [
    "weights.shape"
   ]
  },
  {
   "cell_type": "code",
   "execution_count": 58,
   "id": "4e486397-c282-436d-a72b-cce8ddc48649",
   "metadata": {},
   "outputs": [
    {
     "data": {
      "text/plain": [
       "(2, 2, 3)"
      ]
     },
     "execution_count": 58,
     "metadata": {},
     "output_type": "execute_result"
    }
   ],
   "source": [
    "arr3 = np.array([\n",
    "    [[11, 12, 13], \n",
    "     [13, 14, 15]], \n",
    "    [[15, 16, 17], \n",
    "     [17, 18, 19.5]]])\n",
    "\n",
    "arr3.shape"
   ]
  },
  {
   "cell_type": "raw",
   "id": "f812dbae-e933-4b89-bf0d-e29f820b0c15",
   "metadata": {},
   "source": [
    "arr3 = np.array([\n",
    "    [[11, 12, 13], \n",
    "     [13, 14, 15]],\n",
    "\n",
    "    [[15, 16, 17], \n",
    "     [17, 18, 19.5]]])\n",
    "\n",
    "arr3.dtype"
   ]
  },
  {
   "cell_type": "code",
   "execution_count": 59,
   "id": "41047b6b-1a30-4a33-90e0-bfba38bbc53f",
   "metadata": {},
   "outputs": [
    {
     "data": {
      "text/plain": [
       "array([56.8, 76.9, 81.9, 57.7, 74.9])"
      ]
     },
     "execution_count": 59,
     "metadata": {},
     "output_type": "execute_result"
    }
   ],
   "source": [
    "np.matmul(climate_data,weights)"
   ]
  },
  {
   "cell_type": "code",
   "execution_count": 60,
   "id": "31342685-72b1-4eba-9583-1168e0186f18",
   "metadata": {},
   "outputs": [
    {
     "data": {
      "text/plain": [
       "array([56.8, 76.9, 81.9, 57.7, 74.9])"
      ]
     },
     "execution_count": 60,
     "metadata": {},
     "output_type": "execute_result"
    }
   ],
   "source": [
    "climate_data @ weights"
   ]
  },
  {
   "cell_type": "raw",
   "id": "593a59d1-62f1-43ae-a3cd-e5b261e5ef46",
   "metadata": {},
   "source": [
    "import numpy as np\n",
    "arr4 = np.array([[1, 2, 3, 4], \n",
    "                 [5, 6, 7, 8], \n",
    "                 [9, 1, 2, 3]])\n",
    "\n",
    "arr5 = np.array([[11, 12, 13, 14], \n",
    "                 [15, 16, 17, 18], \n",
    "\n",
    "arr4"
   ]
  },
  {
   "cell_type": "code",
   "execution_count": 9,
   "id": "55a6992c-9e0e-4735-860e-2cd934733c91",
   "metadata": {},
   "outputs": [
    {
     "data": {
      "text/plain": [
       "(3, 4)"
      ]
     },
     "execution_count": 9,
     "metadata": {},
     "output_type": "execute_result"
    }
   ],
   "source": [
    "import numpy as np\n",
    "\n",
    "arr2 = np.array([[1, 2, 3, 4], \n",
    "                 [5, 6, 7, 8], \n",
    "                 [9, 1, 2, 3]])\n",
    "\n",
    "arr2.shape"
   ]
  },
  {
   "cell_type": "code",
   "execution_count": 10,
   "id": "87150666-90bc-4f4d-8dd8-4a33b0a314cb",
   "metadata": {},
   "outputs": [],
   "source": [
    "arr4 = np.array([4, 5, 6, 7])"
   ]
  },
  {
   "cell_type": "code",
   "execution_count": 11,
   "id": "510099e1-4d4f-4ba1-9f69-f7a4793c9c2e",
   "metadata": {},
   "outputs": [
    {
     "data": {
      "text/plain": [
       "array([[ 5,  7,  9, 11],\n",
       "       [ 9, 11, 13, 15],\n",
       "       [13,  6,  8, 10]])"
      ]
     },
     "execution_count": 11,
     "metadata": {},
     "output_type": "execute_result"
    }
   ],
   "source": [
    "arr2+arr4"
   ]
  },
  {
   "cell_type": "code",
   "execution_count": 14,
   "id": "015e274e-cb2c-412e-b38f-217628ba1f23",
   "metadata": {},
   "outputs": [
    {
     "data": {
      "text/plain": [
       "array([[False, False, False],\n",
       "       [ True,  True, False]])"
      ]
     },
     "execution_count": 14,
     "metadata": {},
     "output_type": "execute_result"
    }
   ],
   "source": [
    "import numpy as np\n",
    "\n",
    "arr1 = np.array([[1, 2, 3], [3, 4, 5]])\n",
    "arr2 = np.array([[2, 2, 3], [1, 2, 5]])\n",
    "arr1 == arr2\n",
    "arr1 > arr2"
   ]
  },
  {
   "cell_type": "code",
   "execution_count": 15,
   "id": "0cdd2095-a5e2-4449-90db-309ddc1c1b20",
   "metadata": {},
   "outputs": [
    {
     "data": {
      "text/plain": [
       "array([[False, False, False],\n",
       "       [ True,  True, False]])"
      ]
     },
     "execution_count": 15,
     "metadata": {},
     "output_type": "execute_result"
    }
   ],
   "source": [
    "arr1 > arr2"
   ]
  },
  {
   "cell_type": "code",
   "execution_count": 16,
   "id": "cba268bf-9242-4d90-86ae-1ad7e29db684",
   "metadata": {},
   "outputs": [
    {
     "data": {
      "text/plain": [
       "array([[ True, False, False],\n",
       "       [False, False, False]])"
      ]
     },
     "execution_count": 16,
     "metadata": {},
     "output_type": "execute_result"
    }
   ],
   "source": [
    "arr1 < arr2"
   ]
  },
  {
   "cell_type": "code",
   "execution_count": 17,
   "id": "53205420-a0c9-4e2b-8d4f-6e3cc42b4d30",
   "metadata": {},
   "outputs": [
    {
     "data": {
      "text/plain": [
       "3"
      ]
     },
     "execution_count": 17,
     "metadata": {},
     "output_type": "execute_result"
    }
   ],
   "source": [
    "(arr1 == arr2).sum()"
   ]
  },
  {
   "cell_type": "code",
   "execution_count": 20,
   "id": "243d0aaa-a030-4da4-8925-5e4b38183550",
   "metadata": {},
   "outputs": [
    {
     "data": {
      "text/plain": [
       "21.0"
      ]
     },
     "execution_count": 20,
     "metadata": {},
     "output_type": "execute_result"
    }
   ],
   "source": [
    "import numpy as np\n",
    "\n",
    "arr3 = np.array([\n",
    "    [[11, 12, 13, 14], \n",
    "     [13, 14, 15, 19]], \n",
    "    \n",
    "    [[15, 16, 17, 21], \n",
    "     [63, 92, 36, 18]], \n",
    "    \n",
    "    [[98, 32, 81, 23],      \n",
    "     [17, 18, 19.5, 43]]])\n",
    "\n",
    "arr3[1,0,3]"
   ]
  },
  {
   "cell_type": "code",
   "execution_count": 21,
   "id": "cb2283f0-4045-4835-9a79-4cb22ace1416",
   "metadata": {},
   "outputs": [
    {
     "data": {
      "text/plain": [
       "18.0"
      ]
     },
     "execution_count": 21,
     "metadata": {},
     "output_type": "execute_result"
    }
   ],
   "source": [
    "arr3[1,1,3]"
   ]
  },
  {
   "cell_type": "code",
   "execution_count": 22,
   "id": "2caf3a6a-dc3e-4fab-b01b-0d9016d5ff8d",
   "metadata": {},
   "outputs": [],
   "source": [
    "import numpy as np\n"
   ]
  },
  {
   "cell_type": "markdown",
   "id": "e8791d11-d95c-454f-9d70-9d0571568e81",
   "metadata": {},
   "source": [
    "### Basic Numpy Arrays"
   ]
  },
  {
   "cell_type": "code",
   "execution_count": 24,
   "id": "28bdb8cf-f3f3-4a91-aa33-63f9629fdab9",
   "metadata": {},
   "outputs": [],
   "source": [
    "array1= np.array([1,2,3,4])"
   ]
  },
  {
   "cell_type": "code",
   "execution_count": 25,
   "id": "e60d9d76-ab0a-4d66-9af8-088ee51392d6",
   "metadata": {},
   "outputs": [
    {
     "data": {
      "text/plain": [
       "array([1, 2, 3, 4])"
      ]
     },
     "execution_count": 25,
     "metadata": {},
     "output_type": "execute_result"
    }
   ],
   "source": [
    "array1"
   ]
  },
  {
   "cell_type": "code",
   "execution_count": 44,
   "id": "f5a78de5-9180-4c70-8682-397f5859c455",
   "metadata": {},
   "outputs": [],
   "source": [
    "a=np.array([1,2,3,4,5,6,7,8])\n",
    "b=np.array([0, .5, 1, 1.5, 2])"
   ]
  },
  {
   "cell_type": "code",
   "execution_count": 28,
   "id": "7e52d1c5-8f85-4fef-ba18-2bfc710b4eb0",
   "metadata": {},
   "outputs": [
    {
     "data": {
      "text/plain": [
       "(4, 1.0)"
      ]
     },
     "execution_count": 28,
     "metadata": {},
     "output_type": "execute_result"
    }
   ],
   "source": [
    "a[3],b[2]"
   ]
  },
  {
   "cell_type": "code",
   "execution_count": 29,
   "id": "9586901a-2736-4b65-9b96-51de3fb86d9c",
   "metadata": {},
   "outputs": [
    {
     "data": {
      "text/plain": [
       "(4, 1.0)"
      ]
     },
     "execution_count": 29,
     "metadata": {},
     "output_type": "execute_result"
    }
   ],
   "source": [
    "c=a[3],b[2]\n",
    "c"
   ]
  },
  {
   "cell_type": "code",
   "execution_count": 31,
   "id": "55fec7b7-0003-49b2-9e04-75b1651fad9e",
   "metadata": {},
   "outputs": [
    {
     "data": {
      "text/plain": [
       "array([1, 2, 3, 4])"
      ]
     },
     "execution_count": 31,
     "metadata": {},
     "output_type": "execute_result"
    }
   ],
   "source": [
    "a[0:]"
   ]
  },
  {
   "cell_type": "code",
   "execution_count": 32,
   "id": "066c7256-be35-4ffa-a60a-2e9f7210fc96",
   "metadata": {},
   "outputs": [
    {
     "data": {
      "text/plain": [
       "array([2, 3])"
      ]
     },
     "execution_count": 32,
     "metadata": {},
     "output_type": "execute_result"
    }
   ],
   "source": [
    "a[1:3]"
   ]
  },
  {
   "cell_type": "code",
   "execution_count": 42,
   "id": "887ee4fa-f7f3-4d88-b8ab-1760053a8f57",
   "metadata": {},
   "outputs": [
    {
     "data": {
      "text/plain": [
       "array([2, 3])"
      ]
     },
     "execution_count": 42,
     "metadata": {},
     "output_type": "execute_result"
    }
   ],
   "source": [
    "a[1:-1]"
   ]
  },
  {
   "cell_type": "code",
   "execution_count": null,
   "id": "94558600-4581-4cca-bdcf-22d793c68e70",
   "metadata": {},
   "outputs": [],
   "source": [
    "a[::2]"
   ]
  },
  {
   "cell_type": "code",
   "execution_count": 46,
   "id": "ccfbc7e0-31ac-4242-818d-0d18e7c54fe4",
   "metadata": {},
   "outputs": [
    {
     "data": {
      "text/plain": [
       "array([0. , 0.5, 1. , 1.5, 2. ])"
      ]
     },
     "execution_count": 46,
     "metadata": {},
     "output_type": "execute_result"
    }
   ],
   "source": [
    "b"
   ]
  },
  {
   "cell_type": "code",
   "execution_count": 47,
   "id": "bd8bf997-5e58-41c3-9f3a-f7b8c9e38b51",
   "metadata": {},
   "outputs": [
    {
     "data": {
      "text/plain": [
       "(0.0, 1.0, 2.0)"
      ]
     },
     "execution_count": 47,
     "metadata": {},
     "output_type": "execute_result"
    }
   ],
   "source": [
    "b[0],b[2],b[-1]"
   ]
  },
  {
   "cell_type": "code",
   "execution_count": 49,
   "id": "86baf087-c4a4-4d83-b17f-89eace052d25",
   "metadata": {},
   "outputs": [
    {
     "data": {
      "text/plain": [
       "array([0., 1., 2.])"
      ]
     },
     "execution_count": 49,
     "metadata": {},
     "output_type": "execute_result"
    }
   ],
   "source": [
    "b[[0,2,-1]]"
   ]
  },
  {
   "cell_type": "markdown",
   "id": "e680c9a3-ed40-4324-a196-aeeb49299708",
   "metadata": {},
   "source": [
    "### Array Type"
   ]
  },
  {
   "cell_type": "code",
   "execution_count": 50,
   "id": "133d161c-d6d6-4b3a-86d7-82f998a5911e",
   "metadata": {},
   "outputs": [
    {
     "data": {
      "text/plain": [
       "array([1, 2, 3, 4, 5, 6, 7, 8])"
      ]
     },
     "execution_count": 50,
     "metadata": {},
     "output_type": "execute_result"
    }
   ],
   "source": [
    "a"
   ]
  },
  {
   "cell_type": "code",
   "execution_count": 52,
   "id": "034cce5a-0968-41b2-b9ea-df82525ea4ac",
   "metadata": {},
   "outputs": [
    {
     "data": {
      "text/plain": [
       "dtype('int32')"
      ]
     },
     "execution_count": 52,
     "metadata": {},
     "output_type": "execute_result"
    }
   ],
   "source": [
    "a.dtype"
   ]
  },
  {
   "cell_type": "code",
   "execution_count": 53,
   "id": "fb1ef439-1a65-45b9-9a9f-be6a1e7ab690",
   "metadata": {},
   "outputs": [
    {
     "data": {
      "text/plain": [
       "array([0. , 0.5, 1. , 1.5, 2. ])"
      ]
     },
     "execution_count": 53,
     "metadata": {},
     "output_type": "execute_result"
    }
   ],
   "source": [
    "b"
   ]
  },
  {
   "cell_type": "code",
   "execution_count": 54,
   "id": "850cfc20-02bc-4bd2-86a6-325c5816e6eb",
   "metadata": {},
   "outputs": [
    {
     "data": {
      "text/plain": [
       "dtype('float64')"
      ]
     },
     "execution_count": 54,
     "metadata": {},
     "output_type": "execute_result"
    }
   ],
   "source": [
    "b.dtype"
   ]
  },
  {
   "cell_type": "code",
   "execution_count": 60,
   "id": "5cecb573-a4c4-4ab9-97d5-d2e1cedd665e",
   "metadata": {},
   "outputs": [
    {
     "data": {
      "text/plain": [
       "array([1., 2., 3., 4.])"
      ]
     },
     "execution_count": 60,
     "metadata": {},
     "output_type": "execute_result"
    }
   ],
   "source": [
    "np.array([1, 2, 3, 4], dtype=float)"
   ]
  },
  {
   "cell_type": "code",
   "execution_count": 64,
   "id": "05577331-1a8c-4895-b085-a68790dfb229",
   "metadata": {},
   "outputs": [
    {
     "data": {
      "text/plain": [
       "array([1, 2, 3, 4])"
      ]
     },
     "execution_count": 64,
     "metadata": {},
     "output_type": "execute_result"
    }
   ],
   "source": [
    "np.array([1, 2, 3, 4], dtype=int)"
   ]
  },
  {
   "cell_type": "code",
   "execution_count": 65,
   "id": "a5f5e712-e5bc-40cb-a102-a760b4da5cbf",
   "metadata": {},
   "outputs": [],
   "source": [
    "c =np.array([\"a\",\"b\",\"c\"])"
   ]
  },
  {
   "cell_type": "code",
   "execution_count": 66,
   "id": "6de896f1-77ea-45bd-b04d-1de45f81bce3",
   "metadata": {},
   "outputs": [
    {
     "data": {
      "text/plain": [
       "dtype('<U1')"
      ]
     },
     "execution_count": 66,
     "metadata": {},
     "output_type": "execute_result"
    }
   ],
   "source": [
    "c.dtype"
   ]
  },
  {
   "cell_type": "code",
   "execution_count": 70,
   "id": "ad18329a-935b-44cf-950f-782ad116a178",
   "metadata": {},
   "outputs": [
    {
     "ename": "AttributeError",
     "evalue": "'dict' object has no attribute 'sys'",
     "output_type": "error",
     "traceback": [
      "\u001b[1;31m---------------------------------------------------------------------------\u001b[0m",
      "\u001b[1;31mAttributeError\u001b[0m                            Traceback (most recent call last)",
      "Cell \u001b[1;32mIn[70], line 2\u001b[0m\n\u001b[0;32m      1\u001b[0m \u001b[38;5;28;01mimport\u001b[39;00m \u001b[38;5;21;01msys\u001b[39;00m\n\u001b[1;32m----> 2\u001b[0m d\u001b[38;5;241m=\u001b[39mnp\u001b[38;5;241m.\u001b[39marray([\u001b[43m{\u001b[49m\u001b[38;5;124;43m\"\u001b[39;49m\u001b[38;5;124;43ma\u001b[39;49m\u001b[38;5;124;43m\"\u001b[39;49m\u001b[43m:\u001b[49m\u001b[38;5;241;43m1\u001b[39;49m\u001b[43m}\u001b[49m\u001b[38;5;241;43m.\u001b[39;49m\u001b[43msys\u001b[49m])\n",
      "\u001b[1;31mAttributeError\u001b[0m: 'dict' object has no attribute 'sys'"
     ]
    }
   ],
   "source": [
    "import sys\n",
    "d=np.array([{\"a\":1}.sys])"
   ]
  },
  {
   "cell_type": "code",
   "execution_count": 71,
   "id": "34abfd5f-d95a-41ac-96d5-ff1a446c4c99",
   "metadata": {},
   "outputs": [
    {
     "data": {
      "text/plain": [
       "dtype('O')"
      ]
     },
     "execution_count": 71,
     "metadata": {},
     "output_type": "execute_result"
    }
   ],
   "source": [
    "d.dtype"
   ]
  },
  {
   "cell_type": "markdown",
   "id": "4ce647df-132a-45ac-a482-5896888dc0a1",
   "metadata": {},
   "source": [
    "### Dimensions and shapes"
   ]
  },
  {
   "cell_type": "code",
   "execution_count": 73,
   "id": "cd0a937e-9f77-491f-9a8c-c48fb41c3f16",
   "metadata": {},
   "outputs": [],
   "source": [
    "A = np.array([[1,2,3],\n",
    "             [4,5,6]])"
   ]
  },
  {
   "cell_type": "code",
   "execution_count": 75,
   "id": "14ebfb47-ca20-4800-b359-988986c202c3",
   "metadata": {},
   "outputs": [
    {
     "data": {
      "text/plain": [
       "(2, 3)"
      ]
     },
     "execution_count": 75,
     "metadata": {},
     "output_type": "execute_result"
    }
   ],
   "source": [
    "A.shape"
   ]
  },
  {
   "cell_type": "code",
   "execution_count": 76,
   "id": "890fd68b-7e0d-40ad-8ee0-130d42d2edec",
   "metadata": {},
   "outputs": [
    {
     "data": {
      "text/plain": [
       "2"
      ]
     },
     "execution_count": 76,
     "metadata": {},
     "output_type": "execute_result"
    }
   ],
   "source": [
    "A.ndim"
   ]
  },
  {
   "cell_type": "code",
   "execution_count": 77,
   "id": "62a64b98-6c55-4d26-8bed-239dca71cf0d",
   "metadata": {},
   "outputs": [
    {
     "data": {
      "text/plain": [
       "6"
      ]
     },
     "execution_count": 77,
     "metadata": {},
     "output_type": "execute_result"
    }
   ],
   "source": [
    "A.size"
   ]
  },
  {
   "cell_type": "code",
   "execution_count": 83,
   "id": "bfcdc201-895c-4838-ab0d-b19b64f40506",
   "metadata": {},
   "outputs": [],
   "source": [
    "B=np.array([[[12,11,10],\n",
    "            [9,8,7]],\n",
    "           \n",
    "           [[6,5,4],\n",
    "            [3,2,1]]])"
   ]
  },
  {
   "cell_type": "code",
   "execution_count": 84,
   "id": "e9b7e36c-1f20-4e4d-9515-ce8dfcd03905",
   "metadata": {},
   "outputs": [
    {
     "data": {
      "text/plain": [
       "(2, 2, 3)"
      ]
     },
     "execution_count": 84,
     "metadata": {},
     "output_type": "execute_result"
    }
   ],
   "source": [
    "B.shape"
   ]
  },
  {
   "cell_type": "code",
   "execution_count": 86,
   "id": "2376e578-e997-4105-9766-1a964c7b395c",
   "metadata": {},
   "outputs": [
    {
     "data": {
      "text/plain": [
       "array([[[12, 11, 10],\n",
       "        [ 9,  8,  7]],\n",
       "\n",
       "       [[ 6,  5,  4],\n",
       "        [ 3,  2,  1]]])"
      ]
     },
     "execution_count": 86,
     "metadata": {},
     "output_type": "execute_result"
    }
   ],
   "source": [
    "B"
   ]
  },
  {
   "cell_type": "code",
   "execution_count": 88,
   "id": "fd04011f-0d96-4375-8d4a-98f93172971e",
   "metadata": {},
   "outputs": [
    {
     "data": {
      "text/plain": [
       "3"
      ]
     },
     "execution_count": 88,
     "metadata": {},
     "output_type": "execute_result"
    }
   ],
   "source": [
    "B.ndim"
   ]
  },
  {
   "cell_type": "code",
   "execution_count": 89,
   "id": "404bdff4-0e30-46ff-a829-593e802665bb",
   "metadata": {},
   "outputs": [
    {
     "data": {
      "text/plain": [
       "12"
      ]
     },
     "execution_count": 89,
     "metadata": {},
     "output_type": "execute_result"
    }
   ],
   "source": [
    "B.size"
   ]
  },
  {
   "cell_type": "code",
   "execution_count": null,
   "id": "faf74b46-f045-4e48-9c4d-1178e92c9622",
   "metadata": {},
   "outputs": [],
   "source": [
    "C = np.array([\n",
    "    [\n",
    "        [12, 11, 10],\n",
    "        [9, 8, 7],\n",
    "    ],\n",
    "    [\n",
    "        [6, 5, 4]\n",
    "    ]\n",
    "])"
   ]
  },
  {
   "cell_type": "code",
   "execution_count": 91,
   "id": "4b463f8b-386f-4afc-93e0-7ee2449f5e1d",
   "metadata": {},
   "outputs": [
    {
     "ename": "NameError",
     "evalue": "name 'C' is not defined",
     "output_type": "error",
     "traceback": [
      "\u001b[1;31m---------------------------------------------------------------------------\u001b[0m",
      "\u001b[1;31mNameError\u001b[0m                                 Traceback (most recent call last)",
      "Cell \u001b[1;32mIn[91], line 1\u001b[0m\n\u001b[1;32m----> 1\u001b[0m \u001b[43mC\u001b[49m\u001b[38;5;241m.\u001b[39mdtype\n",
      "\u001b[1;31mNameError\u001b[0m: name 'C' is not defined"
     ]
    }
   ],
   "source": [
    "C.dtype"
   ]
  },
  {
   "cell_type": "code",
   "execution_count": 92,
   "id": "305309d0-516a-4b7b-b85c-92f9a1787a4d",
   "metadata": {},
   "outputs": [
    {
     "data": {
      "text/plain": [
       "numpy.str_"
      ]
     },
     "execution_count": 92,
     "metadata": {},
     "output_type": "execute_result"
    }
   ],
   "source": [
    "type(c[0])"
   ]
  },
  {
   "cell_type": "markdown",
   "id": "93c6295e-848b-464c-a94b-eab340327cce",
   "metadata": {},
   "source": [
    "### Indexing and Slicing of Matrices"
   ]
  },
  {
   "cell_type": "code",
   "execution_count": 93,
   "id": "2613c506-5e5f-4454-9d78-dd679c5473fc",
   "metadata": {},
   "outputs": [],
   "source": [
    "# Square Matrix\n",
    "A= np.array([[1,2,3],\n",
    "            [4,5,6],\n",
    "            [7,8,9]])"
   ]
  },
  {
   "cell_type": "code",
   "execution_count": 94,
   "id": "2f260ebe-ee99-4dca-89a2-9e0639570c9b",
   "metadata": {},
   "outputs": [
    {
     "data": {
      "text/plain": [
       "array([4, 5, 6])"
      ]
     },
     "execution_count": 94,
     "metadata": {},
     "output_type": "execute_result"
    }
   ],
   "source": [
    "A[1]"
   ]
  },
  {
   "cell_type": "code",
   "execution_count": 95,
   "id": "22b1f1fa-7508-4d4f-90cf-9e65f86613c6",
   "metadata": {},
   "outputs": [
    {
     "data": {
      "text/plain": [
       "4"
      ]
     },
     "execution_count": 95,
     "metadata": {},
     "output_type": "execute_result"
    }
   ],
   "source": [
    "A[1][0]"
   ]
  },
  {
   "cell_type": "code",
   "execution_count": 96,
   "id": "6b3a8f65-2c2c-45e6-908f-fae06962d190",
   "metadata": {},
   "outputs": [
    {
     "data": {
      "text/plain": [
       "4"
      ]
     },
     "execution_count": 96,
     "metadata": {},
     "output_type": "execute_result"
    }
   ],
   "source": [
    "A[1,0]"
   ]
  },
  {
   "cell_type": "code",
   "execution_count": 98,
   "id": "0b006f02-de46-47cb-aed4-399dcb638af2",
   "metadata": {},
   "outputs": [
    {
     "data": {
      "text/plain": [
       "3"
      ]
     },
     "execution_count": 98,
     "metadata": {},
     "output_type": "execute_result"
    }
   ],
   "source": [
    "A[0:2]"
   ]
  },
  {
   "cell_type": "code",
   "execution_count": 99,
   "id": "01cb87a8-3a8f-441d-b1d3-a5d6ec15a105",
   "metadata": {},
   "outputs": [
    {
     "data": {
      "text/plain": [
       "array([[1, 2],\n",
       "       [4, 5],\n",
       "       [7, 8]])"
      ]
     },
     "execution_count": 99,
     "metadata": {},
     "output_type": "execute_result"
    }
   ],
   "source": [
    "A[:,:2]"
   ]
  },
  {
   "cell_type": "code",
   "execution_count": 100,
   "id": "e1bdf27b-e169-4787-8ba9-ba01003b1800",
   "metadata": {},
   "outputs": [
    {
     "data": {
      "text/plain": [
       "array([[1, 2],\n",
       "       [4, 5]])"
      ]
     },
     "execution_count": 100,
     "metadata": {},
     "output_type": "execute_result"
    }
   ],
   "source": [
    "A[:2,:2]"
   ]
  },
  {
   "cell_type": "code",
   "execution_count": 101,
   "id": "92239014-5f64-4dbc-93cc-b58a8db83ef9",
   "metadata": {},
   "outputs": [
    {
     "data": {
      "text/plain": [
       "array([[3],\n",
       "       [6]])"
      ]
     },
     "execution_count": 101,
     "metadata": {},
     "output_type": "execute_result"
    }
   ],
   "source": [
    "A[:2,2:]"
   ]
  },
  {
   "cell_type": "code",
   "execution_count": 102,
   "id": "f569a73b-707f-44b7-b052-bb87f7d52f17",
   "metadata": {},
   "outputs": [
    {
     "data": {
      "text/plain": [
       "array([[1, 2, 3],\n",
       "       [4, 5, 6],\n",
       "       [7, 8, 9]])"
      ]
     },
     "execution_count": 102,
     "metadata": {},
     "output_type": "execute_result"
    }
   ],
   "source": [
    "A"
   ]
  },
  {
   "cell_type": "code",
   "execution_count": 103,
   "id": "b359b25b-27bc-4864-bd88-0c4193cf4cc7",
   "metadata": {},
   "outputs": [],
   "source": [
    "A[1]=np.array([10,10,10])"
   ]
  },
  {
   "cell_type": "code",
   "execution_count": 104,
   "id": "2f1274ed-27a5-4dbe-9aba-54c126795fea",
   "metadata": {},
   "outputs": [
    {
     "data": {
      "text/plain": [
       "array([[ 1,  2,  3],\n",
       "       [10, 10, 10],\n",
       "       [ 7,  8,  9]])"
      ]
     },
     "execution_count": 104,
     "metadata": {},
     "output_type": "execute_result"
    }
   ],
   "source": [
    "A"
   ]
  },
  {
   "cell_type": "code",
   "execution_count": 105,
   "id": "3b31623d-d7fc-4102-95bb-bf585db52838",
   "metadata": {},
   "outputs": [],
   "source": [
    "A[2]=99"
   ]
  },
  {
   "cell_type": "code",
   "execution_count": 106,
   "id": "57ada12c-5ee8-4308-9e26-82cc072d070f",
   "metadata": {},
   "outputs": [
    {
     "data": {
      "text/plain": [
       "array([[ 1,  2,  3],\n",
       "       [10, 10, 10],\n",
       "       [99, 99, 99]])"
      ]
     },
     "execution_count": 106,
     "metadata": {},
     "output_type": "execute_result"
    }
   ],
   "source": [
    "A"
   ]
  },
  {
   "cell_type": "markdown",
   "id": "f7d9f3f2-5587-4037-9ebe-426d960b1847",
   "metadata": {},
   "source": [
    "### Summary statistics"
   ]
  },
  {
   "cell_type": "code",
   "execution_count": 113,
   "id": "bc58c0fb-479a-42bc-a1f2-64effaf11e96",
   "metadata": {},
   "outputs": [],
   "source": [
    "A=np.array([[ 1,  2,  3],\n",
    "            [10, 11, 12],\n",
    "            [69, 79, 89]])"
   ]
  },
  {
   "cell_type": "code",
   "execution_count": 114,
   "id": "7847386c-8321-44e1-92c4-32d058b448f3",
   "metadata": {},
   "outputs": [
    {
     "data": {
      "text/plain": [
       "array([[ 1,  2,  3],\n",
       "       [10, 11, 12],\n",
       "       [69, 79, 89]])"
      ]
     },
     "execution_count": 114,
     "metadata": {},
     "output_type": "execute_result"
    }
   ],
   "source": [
    "A"
   ]
  },
  {
   "cell_type": "code",
   "execution_count": 115,
   "id": "8e90cd1e-4048-4a36-877c-04b2abf25469",
   "metadata": {},
   "outputs": [
    {
     "data": {
      "text/plain": [
       "33"
      ]
     },
     "execution_count": 115,
     "metadata": {},
     "output_type": "execute_result"
    }
   ],
   "source": [
    "A[1].sum()"
   ]
  },
  {
   "cell_type": "code",
   "execution_count": 117,
   "id": "2febb923-18fc-4eac-a0b9-c655ef355929",
   "metadata": {},
   "outputs": [
    {
     "data": {
      "text/plain": [
       "79.0"
      ]
     },
     "execution_count": 117,
     "metadata": {},
     "output_type": "execute_result"
    }
   ],
   "source": [
    "A[2].mean()"
   ]
  },
  {
   "cell_type": "code",
   "execution_count": 118,
   "id": "e38cf83c-2c6b-41bd-bafa-4de15b5afa17",
   "metadata": {},
   "outputs": [
    {
     "data": {
      "text/plain": [
       "34.70190516703978"
      ]
     },
     "execution_count": 118,
     "metadata": {},
     "output_type": "execute_result"
    }
   ],
   "source": [
    "A.std()"
   ]
  },
  {
   "cell_type": "code",
   "execution_count": 119,
   "id": "6dc01878-3565-4009-8739-dd86819dce45",
   "metadata": {},
   "outputs": [
    {
     "data": {
      "text/plain": [
       "276"
      ]
     },
     "execution_count": 119,
     "metadata": {},
     "output_type": "execute_result"
    }
   ],
   "source": [
    "A.sum()"
   ]
  },
  {
   "cell_type": "code",
   "execution_count": 120,
   "id": "d94be907-96e9-4564-9493-3d7d2031508e",
   "metadata": {},
   "outputs": [
    {
     "data": {
      "text/plain": [
       "30.666666666666668"
      ]
     },
     "execution_count": 120,
     "metadata": {},
     "output_type": "execute_result"
    }
   ],
   "source": [
    "A.mean()"
   ]
  },
  {
   "cell_type": "code",
   "execution_count": 121,
   "id": "c743d6d3-9593-4876-b28a-cf9a325db56b",
   "metadata": {},
   "outputs": [
    {
     "data": {
      "text/plain": [
       "34.70190516703978"
      ]
     },
     "execution_count": 121,
     "metadata": {},
     "output_type": "execute_result"
    }
   ],
   "source": [
    "A.std()"
   ]
  },
  {
   "cell_type": "code",
   "execution_count": 122,
   "id": "37a0ff0e-6eea-4c69-842a-f3f7c6e0f15a",
   "metadata": {},
   "outputs": [
    {
     "data": {
      "text/plain": [
       "array([ 80,  92, 104])"
      ]
     },
     "execution_count": 122,
     "metadata": {},
     "output_type": "execute_result"
    }
   ],
   "source": [
    "A.sum(axis=0)"
   ]
  },
  {
   "cell_type": "code",
   "execution_count": 123,
   "id": "e1fd3542-3b2b-4117-a078-513fabae7a7f",
   "metadata": {},
   "outputs": [
    {
     "data": {
      "text/plain": [
       "array([  6,  33, 237])"
      ]
     },
     "execution_count": 123,
     "metadata": {},
     "output_type": "execute_result"
    }
   ],
   "source": [
    "A.sum(axis=1)"
   ]
  },
  {
   "cell_type": "code",
   "execution_count": 124,
   "id": "b595032c-0f2a-4a17-bcc3-4a223253f5af",
   "metadata": {},
   "outputs": [
    {
     "data": {
      "text/plain": [
       "array([26.66666667, 30.66666667, 34.66666667])"
      ]
     },
     "execution_count": 124,
     "metadata": {},
     "output_type": "execute_result"
    }
   ],
   "source": [
    "A.mean(axis=0)"
   ]
  },
  {
   "cell_type": "code",
   "execution_count": 125,
   "id": "48af88bc-930c-4ef4-be4e-014bb01b6654",
   "metadata": {},
   "outputs": [
    {
     "data": {
      "text/plain": [
       "array([ 2., 11., 79.])"
      ]
     },
     "execution_count": 125,
     "metadata": {},
     "output_type": "execute_result"
    }
   ],
   "source": [
    "A.mean(axis=1)"
   ]
  },
  {
   "cell_type": "code",
   "execution_count": null,
   "id": "66d25407-94e7-4baa-9364-e753fdba2841",
   "metadata": {},
   "outputs": [],
   "source": [
    "A.mean(axis=2)"
   ]
  },
  {
   "cell_type": "markdown",
   "id": "a43783b7-cd7e-437e-9434-ada7ee3f4f1c",
   "metadata": {},
   "source": [
    "### Broadcasting and Vectorized operations"
   ]
  },
  {
   "cell_type": "code",
   "execution_count": 129,
   "id": "26e3a548-43b3-4d94-a008-8e3066a69a79",
   "metadata": {},
   "outputs": [],
   "source": [
    "a=np.arange(4)"
   ]
  },
  {
   "cell_type": "code",
   "execution_count": 130,
   "id": "82d24720-afbb-4e28-9d2d-d65238b31501",
   "metadata": {},
   "outputs": [
    {
     "data": {
      "text/plain": [
       "array([0, 1, 2, 3])"
      ]
     },
     "execution_count": 130,
     "metadata": {},
     "output_type": "execute_result"
    }
   ],
   "source": [
    "a"
   ]
  },
  {
   "cell_type": "code",
   "execution_count": 131,
   "id": "f2c585d1-9bd9-413f-8a1d-83f6acef01eb",
   "metadata": {},
   "outputs": [
    {
     "data": {
      "text/plain": [
       "array([10, 11, 12, 13])"
      ]
     },
     "execution_count": 131,
     "metadata": {},
     "output_type": "execute_result"
    }
   ],
   "source": [
    "a +10"
   ]
  },
  {
   "cell_type": "code",
   "execution_count": 132,
   "id": "d7c88fef-f071-42ab-9d8c-55423fef2db8",
   "metadata": {},
   "outputs": [
    {
     "data": {
      "text/plain": [
       "array([ 0, 10, 20, 30])"
      ]
     },
     "execution_count": 132,
     "metadata": {},
     "output_type": "execute_result"
    }
   ],
   "source": [
    "a * 10"
   ]
  },
  {
   "cell_type": "code",
   "execution_count": 133,
   "id": "93ecbe3b-b380-4492-baf8-6cabce554f71",
   "metadata": {},
   "outputs": [
    {
     "data": {
      "text/plain": [
       "array([0, 1, 2, 3])"
      ]
     },
     "execution_count": 133,
     "metadata": {},
     "output_type": "execute_result"
    }
   ],
   "source": [
    "a"
   ]
  },
  {
   "cell_type": "code",
   "execution_count": 134,
   "id": "0171a8aa-152d-407f-a8d8-712671ba7e2d",
   "metadata": {},
   "outputs": [],
   "source": [
    "a +=100"
   ]
  },
  {
   "cell_type": "code",
   "execution_count": 135,
   "id": "19fc4843-37c5-4cee-bbfa-57ab2bca4221",
   "metadata": {},
   "outputs": [
    {
     "data": {
      "text/plain": [
       "array([100, 101, 102, 103])"
      ]
     },
     "execution_count": 135,
     "metadata": {},
     "output_type": "execute_result"
    }
   ],
   "source": [
    "a"
   ]
  },
  {
   "cell_type": "code",
   "execution_count": null,
   "id": "d3b66df1-3f6c-4ff9-9944-4ed0f60e9cce",
   "metadata": {},
   "outputs": [],
   "source": [
    "l =[0,1,2,3]"
   ]
  },
  {
   "cell_type": "code",
   "execution_count": 142,
   "id": "359576f7-cc86-4e4f-bb1c-6a8fc593651d",
   "metadata": {},
   "outputs": [
    {
     "data": {
      "text/plain": [
       "[0, 10, 20, 30]"
      ]
     },
     "execution_count": 142,
     "metadata": {},
     "output_type": "execute_result"
    }
   ],
   "source": [
    "l =[0,1,2,3]\n",
    "[i * 10 for i in l]\n"
   ]
  },
  {
   "cell_type": "code",
   "execution_count": 150,
   "id": "5bc7f183-2f71-4d77-8381-9370dddbe232",
   "metadata": {},
   "outputs": [],
   "source": [
    "a=np.arange(4)"
   ]
  },
  {
   "cell_type": "code",
   "execution_count": 151,
   "id": "dbd7a520-e57f-48fe-b7cf-9ec0b3965de5",
   "metadata": {},
   "outputs": [
    {
     "data": {
      "text/plain": [
       "array([0, 1, 2, 3])"
      ]
     },
     "execution_count": 151,
     "metadata": {},
     "output_type": "execute_result"
    }
   ],
   "source": [
    "a"
   ]
  },
  {
   "cell_type": "code",
   "execution_count": 152,
   "id": "add064ad-3d72-4084-bfce-8b437d1c33b8",
   "metadata": {},
   "outputs": [],
   "source": [
    "b=np.array([10,10,10,10])"
   ]
  },
  {
   "cell_type": "code",
   "execution_count": 153,
   "id": "ec318762-7e97-4886-b657-fbfba759dca0",
   "metadata": {},
   "outputs": [
    {
     "data": {
      "text/plain": [
       "array([10, 10, 10, 10])"
      ]
     },
     "execution_count": 153,
     "metadata": {},
     "output_type": "execute_result"
    }
   ],
   "source": [
    "b"
   ]
  },
  {
   "cell_type": "code",
   "execution_count": 154,
   "id": "e3ef8439-70a4-4138-b29e-43840909eb79",
   "metadata": {},
   "outputs": [
    {
     "data": {
      "text/plain": [
       "array([10, 11, 12, 13])"
      ]
     },
     "execution_count": 154,
     "metadata": {},
     "output_type": "execute_result"
    }
   ],
   "source": [
    "a + b"
   ]
  },
  {
   "cell_type": "code",
   "execution_count": 155,
   "id": "de4b320b-ae25-47ec-8de4-4b2740d18b7d",
   "metadata": {},
   "outputs": [
    {
     "data": {
      "text/plain": [
       "array([ 0, 10, 20, 30])"
      ]
     },
     "execution_count": 155,
     "metadata": {},
     "output_type": "execute_result"
    }
   ],
   "source": [
    "a * b"
   ]
  },
  {
   "cell_type": "code",
   "execution_count": 156,
   "id": "85261fbb-ce99-4e7d-97e7-e1147380d76f",
   "metadata": {},
   "outputs": [
    {
     "data": {
      "text/plain": [
       "array([0, 3])"
      ]
     },
     "execution_count": 156,
     "metadata": {},
     "output_type": "execute_result"
    }
   ],
   "source": [
    "a[[True,False,False,True]]"
   ]
  },
  {
   "cell_type": "code",
   "execution_count": 157,
   "id": "741d8400-a5de-43ea-b9f7-b1a87603b379",
   "metadata": {},
   "outputs": [
    {
     "data": {
      "text/plain": [
       "array([0, 1, 2, 3])"
      ]
     },
     "execution_count": 157,
     "metadata": {},
     "output_type": "execute_result"
    }
   ],
   "source": [
    "a"
   ]
  },
  {
   "cell_type": "code",
   "execution_count": 158,
   "id": "3b77068e-e713-4296-9122-6006e865783c",
   "metadata": {},
   "outputs": [
    {
     "data": {
      "text/plain": [
       "array([False, False,  True,  True])"
      ]
     },
     "execution_count": 158,
     "metadata": {},
     "output_type": "execute_result"
    }
   ],
   "source": [
    " a>=2"
   ]
  },
  {
   "cell_type": "code",
   "execution_count": 159,
   "id": "36645a12-c2e3-48fc-8906-22fc89c06d4f",
   "metadata": {},
   "outputs": [
    {
     "data": {
      "text/plain": [
       "array([2, 3])"
      ]
     },
     "execution_count": 159,
     "metadata": {},
     "output_type": "execute_result"
    }
   ],
   "source": [
    "a[a>=2]"
   ]
  },
  {
   "cell_type": "code",
   "execution_count": 160,
   "id": "1eafcec5-1451-48a9-ab5a-4096fb526abb",
   "metadata": {},
   "outputs": [
    {
     "data": {
      "text/plain": [
       "1.5"
      ]
     },
     "execution_count": 160,
     "metadata": {},
     "output_type": "execute_result"
    }
   ],
   "source": [
    "a.mean()"
   ]
  },
  {
   "cell_type": "code",
   "execution_count": 161,
   "id": "58c70b42-376c-4e98-b54b-6551142bceeb",
   "metadata": {},
   "outputs": [
    {
     "data": {
      "text/plain": [
       "array([2, 3])"
      ]
     },
     "execution_count": 161,
     "metadata": {},
     "output_type": "execute_result"
    }
   ],
   "source": [
    "a[ a> a.mean()]"
   ]
  },
  {
   "cell_type": "code",
   "execution_count": 163,
   "id": "eaa7108e-000c-4b35-846a-a87a863daa89",
   "metadata": {},
   "outputs": [
    {
     "data": {
      "text/plain": [
       "array([0, 1])"
      ]
     },
     "execution_count": 163,
     "metadata": {},
     "output_type": "execute_result"
    }
   ],
   "source": [
    "a[~( a> a.mean())]"
   ]
  },
  {
   "cell_type": "code",
   "execution_count": 164,
   "id": "ee954bc0-882a-410c-b9eb-1fd6effcf60f",
   "metadata": {},
   "outputs": [
    {
     "data": {
      "text/plain": [
       "array([0, 1])"
      ]
     },
     "execution_count": 164,
     "metadata": {},
     "output_type": "execute_result"
    }
   ],
   "source": [
    "a[( a== 0) | (a==1)]"
   ]
  },
  {
   "cell_type": "code",
   "execution_count": 168,
   "id": "99ccf3da-d2ae-49b1-8645-92320b15310e",
   "metadata": {},
   "outputs": [
    {
     "data": {
      "text/plain": [
       "array([0, 2])"
      ]
     },
     "execution_count": 168,
     "metadata": {},
     "output_type": "execute_result"
    }
   ],
   "source": [
    "a[( a <= 2) & (a % 2 == 0)]"
   ]
  },
  {
   "cell_type": "code",
   "execution_count": 170,
   "id": "27a02453-ee32-4e25-a6e3-1bdf64b17a77",
   "metadata": {},
   "outputs": [],
   "source": [
    "A=np.random.randint(100,size=(3,3))"
   ]
  },
  {
   "cell_type": "code",
   "execution_count": 172,
   "id": "df230d54-36f0-4b45-b0be-a2c286e0e880",
   "metadata": {},
   "outputs": [
    {
     "data": {
      "text/plain": [
       "array([[69, 18, 43],\n",
       "       [56,  9, 90],\n",
       "       [29, 36, 21]])"
      ]
     },
     "execution_count": 172,
     "metadata": {},
     "output_type": "execute_result"
    }
   ],
   "source": [
    "A"
   ]
  },
  {
   "cell_type": "code",
   "execution_count": 173,
   "id": "950d97b8-5572-4297-86bf-c0088e47f426",
   "metadata": {},
   "outputs": [
    {
     "data": {
      "text/plain": [
       "array([69, 43,  9, 29, 21])"
      ]
     },
     "execution_count": 173,
     "metadata": {},
     "output_type": "execute_result"
    }
   ],
   "source": [
    "A[np.array([\n",
    "    [True, False, True],\n",
    "    [False, True, False],\n",
    "    [True, False, True]\n",
    "])]"
   ]
  },
  {
   "cell_type": "code",
   "execution_count": 174,
   "id": "4f14ce95-4e7b-460a-8432-e242e6ce4726",
   "metadata": {},
   "outputs": [
    {
     "data": {
      "text/plain": [
       "array([[ True, False,  True],\n",
       "       [ True, False,  True],\n",
       "       [False,  True, False]])"
      ]
     },
     "execution_count": 174,
     "metadata": {},
     "output_type": "execute_result"
    }
   ],
   "source": [
    "A > 30"
   ]
  },
  {
   "cell_type": "code",
   "execution_count": 175,
   "id": "4fbcaa94-b994-4965-9593-9e8c90ccf522",
   "metadata": {},
   "outputs": [
    {
     "data": {
      "text/plain": [
       "array([69, 43, 56, 90, 36])"
      ]
     },
     "execution_count": 175,
     "metadata": {},
     "output_type": "execute_result"
    }
   ],
   "source": [
    "A[A>30]"
   ]
  },
  {
   "cell_type": "code",
   "execution_count": null,
   "id": "5681b8a2-3827-4749-8d0a-02dd55a77535",
   "metadata": {},
   "outputs": [],
   "source": [
    "A = np.array([\n",
    "    [1, 2, 3],\n",
    "    [4, 5, 6],\n",
    "    [7, 8, 9]\n",
    "])\n",
    "\n"
   ]
  },
  {
   "cell_type": "code",
   "execution_count": 178,
   "id": "9483a9bc-c4ea-4bb1-b9b7-be7db0b125bc",
   "metadata": {},
   "outputs": [],
   "source": [
    "B = np.array([\n",
    "    [6, 5],\n",
    "    [4, 3],\n",
    "    [2, 1]\n",
    "])"
   ]
  },
  {
   "cell_type": "code",
   "execution_count": 179,
   "id": "e0bc6b16-506e-4d77-8218-ff728668e4f4",
   "metadata": {},
   "outputs": [
    {
     "data": {
      "text/plain": [
       "array([[572, 442],\n",
       "       [552, 397],\n",
       "       [360, 274]])"
      ]
     },
     "execution_count": 179,
     "metadata": {},
     "output_type": "execute_result"
    }
   ],
   "source": [
    "A.dot(B)"
   ]
  },
  {
   "cell_type": "code",
   "execution_count": 180,
   "id": "900e06bc-aa61-4eb0-8516-05a9020ae4e0",
   "metadata": {},
   "outputs": [
    {
     "data": {
      "text/plain": [
       "array([[572, 442],\n",
       "       [552, 397],\n",
       "       [360, 274]])"
      ]
     },
     "execution_count": 180,
     "metadata": {},
     "output_type": "execute_result"
    }
   ],
   "source": [
    "A @ B"
   ]
  },
  {
   "cell_type": "code",
   "execution_count": 181,
   "id": "6bc1c00a-fd04-4fe7-b283-54053b2ace89",
   "metadata": {},
   "outputs": [
    {
     "data": {
      "text/plain": [
       "array([[6, 4, 2],\n",
       "       [5, 3, 1]])"
      ]
     },
     "execution_count": 181,
     "metadata": {},
     "output_type": "execute_result"
    }
   ],
   "source": [
    "B.T"
   ]
  },
  {
   "cell_type": "code",
   "execution_count": 182,
   "id": "792f0787-e846-4973-99aa-1781f456a035",
   "metadata": {},
   "outputs": [
    {
     "data": {
      "text/plain": [
       "array([[69, 18, 43],\n",
       "       [56,  9, 90],\n",
       "       [29, 36, 21]])"
      ]
     },
     "execution_count": 182,
     "metadata": {},
     "output_type": "execute_result"
    }
   ],
   "source": [
    "A"
   ]
  },
  {
   "cell_type": "code",
   "execution_count": 183,
   "id": "e9114b09-9892-4761-8570-b2404c34b8e1",
   "metadata": {},
   "outputs": [
    {
     "data": {
      "text/plain": [
       "array([[696, 216, 660],\n",
       "       [542, 153, 506]])"
      ]
     },
     "execution_count": 183,
     "metadata": {},
     "output_type": "execute_result"
    }
   ],
   "source": [
    "B.T @ A"
   ]
  },
  {
   "cell_type": "code",
   "execution_count": 185,
   "id": "5f292f38-16ff-4cc7-927c-ebd6cc070280",
   "metadata": {},
   "outputs": [
    {
     "data": {
      "text/plain": [
       "28"
      ]
     },
     "execution_count": 185,
     "metadata": {},
     "output_type": "execute_result"
    }
   ],
   "source": [
    "sys.getsizeof(1)"
   ]
  },
  {
   "cell_type": "code",
   "execution_count": 186,
   "id": "f3094bcc-79c1-41f9-b2ad-732b1a0c6b11",
   "metadata": {},
   "outputs": [
    {
     "data": {
      "text/plain": [
       "28"
      ]
     },
     "execution_count": 186,
     "metadata": {},
     "output_type": "execute_result"
    }
   ],
   "source": [
    "sys.getsizeof(10*100)"
   ]
  },
  {
   "cell_type": "code",
   "execution_count": 187,
   "id": "a0f4aeda-45f3-4836-9bec-d62392dddba7",
   "metadata": {},
   "outputs": [
    {
     "data": {
      "text/plain": [
       "72"
      ]
     },
     "execution_count": 187,
     "metadata": {},
     "output_type": "execute_result"
    }
   ],
   "source": [
    "sys.getsizeof(10**100)"
   ]
  },
  {
   "cell_type": "code",
   "execution_count": 190,
   "id": "b341a843-f698-49e5-8c0e-0544087ac5e5",
   "metadata": {},
   "outputs": [
    {
     "data": {
      "text/plain": [
       "1"
      ]
     },
     "execution_count": 190,
     "metadata": {},
     "output_type": "execute_result"
    }
   ],
   "source": [
    "np.dtype(np.int8).itemsize"
   ]
  },
  {
   "cell_type": "code",
   "execution_count": 191,
   "id": "67262139-793f-411d-93b2-ffcdbd684fe5",
   "metadata": {},
   "outputs": [],
   "source": [
    "l= list(range(100000))"
   ]
  },
  {
   "cell_type": "code",
   "execution_count": 193,
   "id": "fd2d3963-a93b-4101-8541-2cd9cadfdd0c",
   "metadata": {},
   "outputs": [],
   "source": [
    "a =np.arange(100000)"
   ]
  },
  {
   "cell_type": "code",
   "execution_count": 194,
   "id": "e3183108-954e-402c-9808-6697260acdab",
   "metadata": {},
   "outputs": [
    {
     "data": {
      "text/plain": [
       "array([    0,     1,     2, ..., 99997, 99998, 99999])"
      ]
     },
     "execution_count": 194,
     "metadata": {},
     "output_type": "execute_result"
    }
   ],
   "source": [
    "a"
   ]
  },
  {
   "cell_type": "code",
   "execution_count": 195,
   "id": "4061e25a-1544-46b8-a2ef-1f7c5cbad00b",
   "metadata": {},
   "outputs": [
    {
     "name": "stdout",
     "output_type": "stream",
     "text": [
      "CPU times: total: 0 ns\n",
      "Wall time: 68 ms\n"
     ]
    },
    {
     "data": {
      "text/plain": [
       "216474736"
      ]
     },
     "execution_count": 195,
     "metadata": {},
     "output_type": "execute_result"
    }
   ],
   "source": [
    "%time np.sum(a**2)"
   ]
  },
  {
   "cell_type": "code",
   "execution_count": 196,
   "id": "3cbd2dd8-a61e-435a-bfe3-c60eccdcc489",
   "metadata": {},
   "outputs": [
    {
     "data": {
      "text/plain": [
       "333328333350000"
      ]
     },
     "execution_count": 196,
     "metadata": {},
     "output_type": "execute_result"
    }
   ],
   "source": [
    "sum([x**2 for x in l])"
   ]
  },
  {
   "cell_type": "code",
   "execution_count": null,
   "id": "5c60f910-7aa3-42cc-919b-c321ca192c5a",
   "metadata": {},
   "outputs": [],
   "source": []
  },
  {
   "cell_type": "code",
   "execution_count": null,
   "id": "26948f7d-c730-4270-a2ce-26ebe9d9e5db",
   "metadata": {},
   "outputs": [],
   "source": []
  },
  {
   "cell_type": "code",
   "execution_count": null,
   "id": "1a49fb0b-d1c2-439a-a928-7e164f7bd542",
   "metadata": {},
   "outputs": [],
   "source": []
  },
  {
   "cell_type": "code",
   "execution_count": null,
   "id": "5d48b07e-9a9a-4d6b-bca4-1c207f5e0215",
   "metadata": {},
   "outputs": [],
   "source": []
  },
  {
   "cell_type": "code",
   "execution_count": null,
   "id": "e56d97d9-d519-485d-9b1d-682b599610f7",
   "metadata": {},
   "outputs": [],
   "source": []
  },
  {
   "cell_type": "code",
   "execution_count": null,
   "id": "55b41044-9338-476d-9018-0f2902a02c3d",
   "metadata": {},
   "outputs": [],
   "source": []
  },
  {
   "cell_type": "code",
   "execution_count": null,
   "id": "2b89bacd-3666-470c-b930-f542b6ab3bb5",
   "metadata": {},
   "outputs": [],
   "source": []
  },
  {
   "cell_type": "code",
   "execution_count": null,
   "id": "fb6ee1f8-b21c-400b-9405-601d76f4e490",
   "metadata": {},
   "outputs": [],
   "source": []
  },
  {
   "cell_type": "code",
   "execution_count": null,
   "id": "4ebf5706-8e32-44f4-9645-06d3a7122bd6",
   "metadata": {},
   "outputs": [],
   "source": []
  },
  {
   "cell_type": "code",
   "execution_count": null,
   "id": "9b2ce295-d4bb-44dd-9ac0-c4e2f442c442",
   "metadata": {},
   "outputs": [],
   "source": []
  },
  {
   "cell_type": "code",
   "execution_count": null,
   "id": "09e4b5c7-5530-4c18-928e-753b98fbaa80",
   "metadata": {},
   "outputs": [],
   "source": []
  },
  {
   "cell_type": "code",
   "execution_count": null,
   "id": "bf2716b1-c7b8-40c8-aec3-6086b06db915",
   "metadata": {},
   "outputs": [],
   "source": []
  },
  {
   "cell_type": "code",
   "execution_count": null,
   "id": "497e366e-c34b-436c-a4f8-d20c5f3ddcc8",
   "metadata": {},
   "outputs": [],
   "source": []
  },
  {
   "cell_type": "code",
   "execution_count": null,
   "id": "d5c9df11-ef5d-49c0-b4d9-36894b112ad1",
   "metadata": {},
   "outputs": [],
   "source": []
  },
  {
   "cell_type": "code",
   "execution_count": null,
   "id": "02554511-df2d-46cb-8782-2b25bd6c9759",
   "metadata": {},
   "outputs": [],
   "source": []
  },
  {
   "cell_type": "code",
   "execution_count": null,
   "id": "f3368239-af19-4841-bc39-d50c78285d8b",
   "metadata": {},
   "outputs": [],
   "source": []
  },
  {
   "cell_type": "code",
   "execution_count": null,
   "id": "f2f23c46-e8f9-464d-9177-3dd1ae70b36b",
   "metadata": {},
   "outputs": [],
   "source": []
  },
  {
   "cell_type": "code",
   "execution_count": null,
   "id": "1e9a3f20-d124-453b-9b89-1c4977df47fa",
   "metadata": {},
   "outputs": [],
   "source": []
  },
  {
   "cell_type": "code",
   "execution_count": null,
   "id": "31abe01a-168e-4c77-aa1c-42ad5fef9b13",
   "metadata": {},
   "outputs": [],
   "source": []
  },
  {
   "cell_type": "code",
   "execution_count": null,
   "id": "883c220f-64b6-4c2a-af64-172ef768116b",
   "metadata": {},
   "outputs": [],
   "source": []
  },
  {
   "cell_type": "code",
   "execution_count": null,
   "id": "746dbe5b-d6f5-413f-a61f-a8189f20495b",
   "metadata": {},
   "outputs": [],
   "source": []
  },
  {
   "cell_type": "code",
   "execution_count": null,
   "id": "38d4ae90-d222-4b26-8f4f-b3b06c4d6f50",
   "metadata": {},
   "outputs": [],
   "source": []
  },
  {
   "cell_type": "code",
   "execution_count": null,
   "id": "ea800f17-a0e3-4506-afab-837d3ae93de4",
   "metadata": {},
   "outputs": [],
   "source": []
  },
  {
   "cell_type": "code",
   "execution_count": null,
   "id": "b62a0eac-0874-44fe-9246-834dcb3111b3",
   "metadata": {},
   "outputs": [],
   "source": []
  },
  {
   "cell_type": "code",
   "execution_count": null,
   "id": "5cc85829-c249-489b-8a73-a922d56e2c3d",
   "metadata": {},
   "outputs": [],
   "source": []
  },
  {
   "cell_type": "code",
   "execution_count": null,
   "id": "67b7b067-2974-4dd6-a0f0-a1dc2c7ea539",
   "metadata": {},
   "outputs": [],
   "source": []
  },
  {
   "cell_type": "code",
   "execution_count": null,
   "id": "2d2556e3-6b16-4807-a8cc-c6e44984cba1",
   "metadata": {},
   "outputs": [],
   "source": []
  },
  {
   "cell_type": "code",
   "execution_count": null,
   "id": "1d0a375f-7024-450a-8948-12cbc8ace8b6",
   "metadata": {},
   "outputs": [],
   "source": []
  },
  {
   "cell_type": "code",
   "execution_count": null,
   "id": "f72a59c9-6619-4eca-98ec-4eb7b9a0c54b",
   "metadata": {},
   "outputs": [],
   "source": []
  },
  {
   "cell_type": "code",
   "execution_count": null,
   "id": "ca3810aa-21e8-4dbe-810a-c0e2bdff49e0",
   "metadata": {},
   "outputs": [],
   "source": []
  },
  {
   "cell_type": "code",
   "execution_count": null,
   "id": "92a31ccd-181e-4768-976d-652bd34770ef",
   "metadata": {},
   "outputs": [],
   "source": []
  },
  {
   "cell_type": "code",
   "execution_count": null,
   "id": "d72e9b9e-d333-4224-bf7d-d4d0446f82c7",
   "metadata": {},
   "outputs": [],
   "source": []
  },
  {
   "cell_type": "code",
   "execution_count": null,
   "id": "b89ae33f-4627-4877-82ca-816ad09c51f3",
   "metadata": {},
   "outputs": [],
   "source": []
  },
  {
   "cell_type": "code",
   "execution_count": null,
   "id": "38f715b6-0420-488e-831b-388c5f3ebe6a",
   "metadata": {},
   "outputs": [],
   "source": []
  },
  {
   "cell_type": "code",
   "execution_count": null,
   "id": "4bae3cdd-8722-469b-a9ea-b7f0cb22dcfd",
   "metadata": {},
   "outputs": [],
   "source": []
  },
  {
   "cell_type": "code",
   "execution_count": null,
   "id": "abcbf4b1-6e4f-46f4-b062-bcdb7fef1af6",
   "metadata": {},
   "outputs": [],
   "source": []
  },
  {
   "cell_type": "code",
   "execution_count": null,
   "id": "ccd3aecb-54d2-4f54-abb3-3257c214fb88",
   "metadata": {},
   "outputs": [],
   "source": []
  },
  {
   "cell_type": "code",
   "execution_count": null,
   "id": "2d11ba86-d999-47dd-8b8d-b5a0e64ebf78",
   "metadata": {},
   "outputs": [],
   "source": []
  },
  {
   "cell_type": "code",
   "execution_count": null,
   "id": "0f06c225-0b6b-4ee6-8510-ba0a3c35fd87",
   "metadata": {},
   "outputs": [],
   "source": []
  },
  {
   "cell_type": "code",
   "execution_count": null,
   "id": "fe85374b-f680-42c1-9e4c-37e673427a93",
   "metadata": {},
   "outputs": [],
   "source": []
  },
  {
   "cell_type": "code",
   "execution_count": null,
   "id": "3e0a4faf-547d-46c1-8d8d-cab6a1d006cc",
   "metadata": {},
   "outputs": [],
   "source": []
  },
  {
   "cell_type": "code",
   "execution_count": null,
   "id": "917c3737-c999-4615-9095-888368e3a44f",
   "metadata": {},
   "outputs": [],
   "source": []
  },
  {
   "cell_type": "code",
   "execution_count": null,
   "id": "b175be94-e2db-4d3f-a12a-28bdd9b2bbe4",
   "metadata": {},
   "outputs": [],
   "source": []
  },
  {
   "cell_type": "code",
   "execution_count": null,
   "id": "dd89a9d2-24ed-449a-88ef-3dfe6283e9d0",
   "metadata": {},
   "outputs": [],
   "source": []
  },
  {
   "cell_type": "code",
   "execution_count": null,
   "id": "abcd6bb9-c644-4a78-a3be-03d6d8c3c393",
   "metadata": {},
   "outputs": [],
   "source": []
  },
  {
   "cell_type": "code",
   "execution_count": null,
   "id": "54caf1b7-fbcb-44ba-8e9d-9e9a68ffc2da",
   "metadata": {},
   "outputs": [],
   "source": []
  },
  {
   "cell_type": "code",
   "execution_count": null,
   "id": "f30d7c7e-2443-4cf4-ab9f-fef541bb09e7",
   "metadata": {},
   "outputs": [],
   "source": []
  },
  {
   "cell_type": "code",
   "execution_count": null,
   "id": "1772cd4f-19c1-43e4-b0d8-bb5f8d6c6ab8",
   "metadata": {},
   "outputs": [],
   "source": []
  },
  {
   "cell_type": "code",
   "execution_count": null,
   "id": "d8a49d3b-94ee-4b92-8213-7a65cf7e831e",
   "metadata": {},
   "outputs": [],
   "source": []
  },
  {
   "cell_type": "code",
   "execution_count": null,
   "id": "6f89d771-2d5b-4b14-b93b-8b485a74aea7",
   "metadata": {},
   "outputs": [],
   "source": []
  },
  {
   "cell_type": "code",
   "execution_count": null,
   "id": "353e50a0-c2d2-4399-b8db-1097e490b770",
   "metadata": {},
   "outputs": [],
   "source": []
  },
  {
   "cell_type": "code",
   "execution_count": null,
   "id": "36204b55-0226-4dc5-9f57-46e52e199a46",
   "metadata": {},
   "outputs": [],
   "source": []
  },
  {
   "cell_type": "code",
   "execution_count": null,
   "id": "cc23d9d9-84ca-4685-b8fd-4abc2f8767f0",
   "metadata": {},
   "outputs": [],
   "source": []
  },
  {
   "cell_type": "code",
   "execution_count": null,
   "id": "e783135a-e711-40d3-bc6b-435a104478e7",
   "metadata": {},
   "outputs": [],
   "source": []
  },
  {
   "cell_type": "code",
   "execution_count": null,
   "id": "98e908bd-49b2-4ebc-adef-98723c06c7dd",
   "metadata": {},
   "outputs": [],
   "source": []
  }
 ],
 "metadata": {
  "kernelspec": {
   "display_name": "Python 3 (ipykernel)",
   "language": "python",
   "name": "python3"
  },
  "language_info": {
   "codemirror_mode": {
    "name": "ipython",
    "version": 3
   },
   "file_extension": ".py",
   "mimetype": "text/x-python",
   "name": "python",
   "nbconvert_exporter": "python",
   "pygments_lexer": "ipython3",
   "version": "3.12.2"
  }
 },
 "nbformat": 4,
 "nbformat_minor": 5
}
